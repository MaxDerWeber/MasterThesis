{
 "cells": [
  {
   "cell_type": "code",
   "execution_count": 3,
   "metadata": {},
   "outputs": [],
   "source": [
    "import pandas as pd\n",
    "import numpy as np"
   ]
  },
  {
   "cell_type": "code",
   "execution_count": 4,
   "metadata": {},
   "outputs": [],
   "source": [
    "pd.options.mode.chained_assignment = None  # default='warn'\n",
    "houshold_raw = pd.read_stata('/Users/maxweber/Downloads/JOLE share 2/household.dta')"
   ]
  },
  {
   "cell_type": "code",
   "execution_count": 5,
   "metadata": {},
   "outputs": [
    {
     "data": {
      "text/plain": [
       "Index(['ssuid', 'swave', 'srefmon', 'month', 'year', 'ehrefper', 'whfnwgt',\n",
       "       'tfearn', 'tftotinc', 'epppnum', 'tage', 'tpearn', 'tptotinc', 'rf_new',\n",
       "       'famsize', 'totearn', 'totinc', 'spouse', 'earn_male', 'earn_female',\n",
       "       'sex_if_single', 'flex', 'moonlit', 'selfemp', 'totwork', 'totcens',\n",
       "       'type', 'reb_spend', 'reb_save', 'reb_debt', 'reb4', 'amt4', 'reb5',\n",
       "       'amt5', 'reb6', 'amt6', 'reb7', 'amt7', 'reb8', 'amt8', 'reb9', 'amt9',\n",
       "       'reb10', 'amt10', 'reb11', 'amt11', 'reb12', 'amt12'],\n",
       "      dtype='object')"
      ]
     },
     "execution_count": 5,
     "metadata": {},
     "output_type": "execute_result"
    }
   ],
   "source": [
    "houshold_raw.columns"
   ]
  },
  {
   "cell_type": "markdown",
   "metadata": {},
   "source": [
    "# Data Exploration and Descritption\n",
    "\n",
    "## ToDo:\n",
    "- is earn_male/female not topcoded\n",
    "> compare the sum to the total hh income\n",
    "- "
   ]
  },
  {
   "cell_type": "code",
   "execution_count": 6,
   "metadata": {},
   "outputs": [
    {
     "data": {
      "text/plain": [
       "(417829, 48)"
      ]
     },
     "execution_count": 6,
     "metadata": {},
     "output_type": "execute_result"
    }
   ],
   "source": [
    "houshold_raw.shape"
   ]
  },
  {
   "cell_type": "code",
   "execution_count": 7,
   "metadata": {
    "collapsed": true
   },
   "outputs": [
    {
     "data": {
      "text/html": [
       "<div>\n",
       "<style scoped>\n",
       "    .dataframe tbody tr th:only-of-type {\n",
       "        vertical-align: middle;\n",
       "    }\n",
       "\n",
       "    .dataframe tbody tr th {\n",
       "        vertical-align: top;\n",
       "    }\n",
       "\n",
       "    .dataframe thead th {\n",
       "        text-align: right;\n",
       "    }\n",
       "</style>\n",
       "<table border=\"1\" class=\"dataframe\">\n",
       "  <thead>\n",
       "    <tr style=\"text-align: right;\">\n",
       "      <th></th>\n",
       "      <th>swave</th>\n",
       "      <th>year</th>\n",
       "      <th>ehrefper</th>\n",
       "      <th>whfnwgt</th>\n",
       "      <th>tfearn</th>\n",
       "      <th>tftotinc</th>\n",
       "      <th>rf_new</th>\n",
       "      <th>famsize</th>\n",
       "      <th>totearn</th>\n",
       "      <th>totinc</th>\n",
       "    </tr>\n",
       "  </thead>\n",
       "  <tbody>\n",
       "    <tr>\n",
       "      <th>count</th>\n",
       "      <td>417829.000000</td>\n",
       "      <td>417829.000000</td>\n",
       "      <td>417829.000000</td>\n",
       "      <td>417829.000000</td>\n",
       "      <td>417829.000000</td>\n",
       "      <td>417829.000000</td>\n",
       "      <td>417829.000000</td>\n",
       "      <td>417829.000000</td>\n",
       "      <td>417829.000000</td>\n",
       "      <td>417829.000000</td>\n",
       "    </tr>\n",
       "    <tr>\n",
       "      <th>mean</th>\n",
       "      <td>2.706346</td>\n",
       "      <td>2008.609352</td>\n",
       "      <td>101.236724</td>\n",
       "      <td>3165.464649</td>\n",
       "      <td>5259.549957</td>\n",
       "      <td>5760.240783</td>\n",
       "      <td>2.571911</td>\n",
       "      <td>2.845865</td>\n",
       "      <td>4950.686035</td>\n",
       "      <td>5392.017578</td>\n",
       "    </tr>\n",
       "    <tr>\n",
       "      <th>std</th>\n",
       "      <td>1.342574</td>\n",
       "      <td>0.487896</td>\n",
       "      <td>4.006889</td>\n",
       "      <td>1275.666959</td>\n",
       "      <td>5781.356315</td>\n",
       "      <td>5822.155966</td>\n",
       "      <td>1.389535</td>\n",
       "      <td>1.567134</td>\n",
       "      <td>5646.872070</td>\n",
       "      <td>5679.446289</td>\n",
       "    </tr>\n",
       "    <tr>\n",
       "      <th>min</th>\n",
       "      <td>1.000000</td>\n",
       "      <td>2008.000000</td>\n",
       "      <td>101.000000</td>\n",
       "      <td>0.000000</td>\n",
       "      <td>-50000.000000</td>\n",
       "      <td>-48591.000000</td>\n",
       "      <td>1.000000</td>\n",
       "      <td>1.000000</td>\n",
       "      <td>-50000.000000</td>\n",
       "      <td>-50000.000000</td>\n",
       "    </tr>\n",
       "    <tr>\n",
       "      <th>25%</th>\n",
       "      <td>2.000000</td>\n",
       "      <td>2008.000000</td>\n",
       "      <td>101.000000</td>\n",
       "      <td>2191.241500</td>\n",
       "      <td>1650.000000</td>\n",
       "      <td>2161.000000</td>\n",
       "      <td>1.000000</td>\n",
       "      <td>2.000000</td>\n",
       "      <td>1443.000000</td>\n",
       "      <td>1906.000000</td>\n",
       "    </tr>\n",
       "    <tr>\n",
       "      <th>50%</th>\n",
       "      <td>3.000000</td>\n",
       "      <td>2009.000000</td>\n",
       "      <td>101.000000</td>\n",
       "      <td>3050.485400</td>\n",
       "      <td>3984.000000</td>\n",
       "      <td>4351.000000</td>\n",
       "      <td>2.000000</td>\n",
       "      <td>3.000000</td>\n",
       "      <td>3634.000000</td>\n",
       "      <td>4001.000000</td>\n",
       "    </tr>\n",
       "    <tr>\n",
       "      <th>75%</th>\n",
       "      <td>4.000000</td>\n",
       "      <td>2009.000000</td>\n",
       "      <td>101.000000</td>\n",
       "      <td>3907.595200</td>\n",
       "      <td>7167.000000</td>\n",
       "      <td>7591.000000</td>\n",
       "      <td>4.000000</td>\n",
       "      <td>4.000000</td>\n",
       "      <td>6751.000000</td>\n",
       "      <td>7116.000000</td>\n",
       "    </tr>\n",
       "    <tr>\n",
       "      <th>max</th>\n",
       "      <td>5.000000</td>\n",
       "      <td>2009.000000</td>\n",
       "      <td>205.000000</td>\n",
       "      <td>25529.882800</td>\n",
       "      <td>98083.000000</td>\n",
       "      <td>101970.000000</td>\n",
       "      <td>28.000000</td>\n",
       "      <td>22.000000</td>\n",
       "      <td>98083.000000</td>\n",
       "      <td>98686.000000</td>\n",
       "    </tr>\n",
       "  </tbody>\n",
       "</table>\n",
       "</div>"
      ],
      "text/plain": [
       "               swave           year       ehrefper        whfnwgt  \\\n",
       "count  417829.000000  417829.000000  417829.000000  417829.000000   \n",
       "mean        2.706346    2008.609352     101.236724    3165.464649   \n",
       "std         1.342574       0.487896       4.006889    1275.666959   \n",
       "min         1.000000    2008.000000     101.000000       0.000000   \n",
       "25%         2.000000    2008.000000     101.000000    2191.241500   \n",
       "50%         3.000000    2009.000000     101.000000    3050.485400   \n",
       "75%         4.000000    2009.000000     101.000000    3907.595200   \n",
       "max         5.000000    2009.000000     205.000000   25529.882800   \n",
       "\n",
       "              tfearn       tftotinc         rf_new        famsize  \\\n",
       "count  417829.000000  417829.000000  417829.000000  417829.000000   \n",
       "mean     5259.549957    5760.240783       2.571911       2.845865   \n",
       "std      5781.356315    5822.155966       1.389535       1.567134   \n",
       "min    -50000.000000  -48591.000000       1.000000       1.000000   \n",
       "25%      1650.000000    2161.000000       1.000000       2.000000   \n",
       "50%      3984.000000    4351.000000       2.000000       3.000000   \n",
       "75%      7167.000000    7591.000000       4.000000       4.000000   \n",
       "max     98083.000000  101970.000000      28.000000      22.000000   \n",
       "\n",
       "             totearn         totinc  \n",
       "count  417829.000000  417829.000000  \n",
       "mean     4950.686035    5392.017578  \n",
       "std      5646.872070    5679.446289  \n",
       "min    -50000.000000  -50000.000000  \n",
       "25%      1443.000000    1906.000000  \n",
       "50%      3634.000000    4001.000000  \n",
       "75%      6751.000000    7116.000000  \n",
       "max     98083.000000   98686.000000  "
      ]
     },
     "execution_count": 7,
     "metadata": {},
     "output_type": "execute_result"
    }
   ],
   "source": [
    "houshold_raw[['ssuid', 'swave', 'srefmon', 'month', 'year', 'ehrefper', 'whfnwgt',\n",
    "       'tfearn', 'tftotinc', 'epppnum', 'tage', 'tpearn', 'tptotinc', 'rf_new',\n",
    "       'famsize', 'totearn', 'totinc']].describe()"
   ]
  },
  {
   "cell_type": "code",
   "execution_count": 8,
   "metadata": {
    "collapsed": true
   },
   "outputs": [
    {
     "data": {
      "text/html": [
       "<div>\n",
       "<style scoped>\n",
       "    .dataframe tbody tr th:only-of-type {\n",
       "        vertical-align: middle;\n",
       "    }\n",
       "\n",
       "    .dataframe tbody tr th {\n",
       "        vertical-align: top;\n",
       "    }\n",
       "\n",
       "    .dataframe thead th {\n",
       "        text-align: right;\n",
       "    }\n",
       "</style>\n",
       "<table border=\"1\" class=\"dataframe\">\n",
       "  <thead>\n",
       "    <tr style=\"text-align: right;\">\n",
       "      <th></th>\n",
       "      <th>spouse</th>\n",
       "      <th>earn_male</th>\n",
       "      <th>earn_female</th>\n",
       "      <th>sex_if_single</th>\n",
       "      <th>flex</th>\n",
       "      <th>moonlit</th>\n",
       "      <th>selfemp</th>\n",
       "      <th>totwork</th>\n",
       "      <th>totcens</th>\n",
       "      <th>type</th>\n",
       "      <th>reb_spend</th>\n",
       "      <th>reb_save</th>\n",
       "      <th>reb_debt</th>\n",
       "    </tr>\n",
       "  </thead>\n",
       "  <tbody>\n",
       "    <tr>\n",
       "      <th>count</th>\n",
       "      <td>417829.000000</td>\n",
       "      <td>311053.000000</td>\n",
       "      <td>348261.000000</td>\n",
       "      <td>176344.000000</td>\n",
       "      <td>417829.000000</td>\n",
       "      <td>417829.000000</td>\n",
       "      <td>417829.000000</td>\n",
       "      <td>417829.000000</td>\n",
       "      <td>417829.000000</td>\n",
       "      <td>417829.000000</td>\n",
       "      <td>417829.000000</td>\n",
       "      <td>417829.000000</td>\n",
       "      <td>417829.000000</td>\n",
       "    </tr>\n",
       "    <tr>\n",
       "      <th>mean</th>\n",
       "      <td>0.577952</td>\n",
       "      <td>4118.764648</td>\n",
       "      <td>2260.470215</td>\n",
       "      <td>1.605498</td>\n",
       "      <td>0.560521</td>\n",
       "      <td>0.022469</td>\n",
       "      <td>0.175218</td>\n",
       "      <td>1.170443</td>\n",
       "      <td>0.038437</td>\n",
       "      <td>1.244471</td>\n",
       "      <td>0.267959</td>\n",
       "      <td>0.161320</td>\n",
       "      <td>0.617985</td>\n",
       "    </tr>\n",
       "    <tr>\n",
       "      <th>std</th>\n",
       "      <td>0.495003</td>\n",
       "      <td>4972.812012</td>\n",
       "      <td>3066.344238</td>\n",
       "      <td>0.489045</td>\n",
       "      <td>0.655534</td>\n",
       "      <td>0.152112</td>\n",
       "      <td>0.423538</td>\n",
       "      <td>0.673011</td>\n",
       "      <td>0.200358</td>\n",
       "      <td>0.429727</td>\n",
       "      <td>0.565415</td>\n",
       "      <td>0.462197</td>\n",
       "      <td>0.713390</td>\n",
       "    </tr>\n",
       "    <tr>\n",
       "      <th>min</th>\n",
       "      <td>0.000000</td>\n",
       "      <td>-50000.000000</td>\n",
       "      <td>-20588.000000</td>\n",
       "      <td>1.000000</td>\n",
       "      <td>0.000000</td>\n",
       "      <td>0.000000</td>\n",
       "      <td>0.000000</td>\n",
       "      <td>0.000000</td>\n",
       "      <td>0.000000</td>\n",
       "      <td>1.000000</td>\n",
       "      <td>0.000000</td>\n",
       "      <td>0.000000</td>\n",
       "      <td>0.000000</td>\n",
       "    </tr>\n",
       "    <tr>\n",
       "      <th>25%</th>\n",
       "      <td>0.000000</td>\n",
       "      <td>1198.000000</td>\n",
       "      <td>0.000000</td>\n",
       "      <td>1.000000</td>\n",
       "      <td>0.000000</td>\n",
       "      <td>0.000000</td>\n",
       "      <td>0.000000</td>\n",
       "      <td>1.000000</td>\n",
       "      <td>0.000000</td>\n",
       "      <td>1.000000</td>\n",
       "      <td>0.000000</td>\n",
       "      <td>0.000000</td>\n",
       "      <td>0.000000</td>\n",
       "    </tr>\n",
       "    <tr>\n",
       "      <th>50%</th>\n",
       "      <td>1.000000</td>\n",
       "      <td>3124.000000</td>\n",
       "      <td>1583.000000</td>\n",
       "      <td>2.000000</td>\n",
       "      <td>0.000000</td>\n",
       "      <td>0.000000</td>\n",
       "      <td>0.000000</td>\n",
       "      <td>1.000000</td>\n",
       "      <td>0.000000</td>\n",
       "      <td>1.000000</td>\n",
       "      <td>0.000000</td>\n",
       "      <td>0.000000</td>\n",
       "      <td>0.000000</td>\n",
       "    </tr>\n",
       "    <tr>\n",
       "      <th>75%</th>\n",
       "      <td>1.000000</td>\n",
       "      <td>5417.000000</td>\n",
       "      <td>3333.000000</td>\n",
       "      <td>2.000000</td>\n",
       "      <td>1.000000</td>\n",
       "      <td>0.000000</td>\n",
       "      <td>0.000000</td>\n",
       "      <td>2.000000</td>\n",
       "      <td>0.000000</td>\n",
       "      <td>1.000000</td>\n",
       "      <td>0.000000</td>\n",
       "      <td>0.000000</td>\n",
       "      <td>1.000000</td>\n",
       "    </tr>\n",
       "    <tr>\n",
       "      <th>max</th>\n",
       "      <td>1.000000</td>\n",
       "      <td>96244.000000</td>\n",
       "      <td>93500.000000</td>\n",
       "      <td>2.000000</td>\n",
       "      <td>2.000000</td>\n",
       "      <td>2.000000</td>\n",
       "      <td>2.000000</td>\n",
       "      <td>2.000000</td>\n",
       "      <td>2.000000</td>\n",
       "      <td>2.000000</td>\n",
       "      <td>2.000000</td>\n",
       "      <td>2.000000</td>\n",
       "      <td>2.000000</td>\n",
       "    </tr>\n",
       "  </tbody>\n",
       "</table>\n",
       "</div>"
      ],
      "text/plain": [
       "              spouse      earn_male    earn_female  sex_if_single  \\\n",
       "count  417829.000000  311053.000000  348261.000000  176344.000000   \n",
       "mean        0.577952    4118.764648    2260.470215       1.605498   \n",
       "std         0.495003    4972.812012    3066.344238       0.489045   \n",
       "min         0.000000  -50000.000000  -20588.000000       1.000000   \n",
       "25%         0.000000    1198.000000       0.000000       1.000000   \n",
       "50%         1.000000    3124.000000    1583.000000       2.000000   \n",
       "75%         1.000000    5417.000000    3333.000000       2.000000   \n",
       "max         1.000000   96244.000000   93500.000000       2.000000   \n",
       "\n",
       "                flex        moonlit        selfemp        totwork  \\\n",
       "count  417829.000000  417829.000000  417829.000000  417829.000000   \n",
       "mean        0.560521       0.022469       0.175218       1.170443   \n",
       "std         0.655534       0.152112       0.423538       0.673011   \n",
       "min         0.000000       0.000000       0.000000       0.000000   \n",
       "25%         0.000000       0.000000       0.000000       1.000000   \n",
       "50%         0.000000       0.000000       0.000000       1.000000   \n",
       "75%         1.000000       0.000000       0.000000       2.000000   \n",
       "max         2.000000       2.000000       2.000000       2.000000   \n",
       "\n",
       "             totcens           type      reb_spend       reb_save  \\\n",
       "count  417829.000000  417829.000000  417829.000000  417829.000000   \n",
       "mean        0.038437       1.244471       0.267959       0.161320   \n",
       "std         0.200358       0.429727       0.565415       0.462197   \n",
       "min         0.000000       1.000000       0.000000       0.000000   \n",
       "25%         0.000000       1.000000       0.000000       0.000000   \n",
       "50%         0.000000       1.000000       0.000000       0.000000   \n",
       "75%         0.000000       1.000000       0.000000       0.000000   \n",
       "max         2.000000       2.000000       2.000000       2.000000   \n",
       "\n",
       "            reb_debt  \n",
       "count  417829.000000  \n",
       "mean        0.617985  \n",
       "std         0.713390  \n",
       "min         0.000000  \n",
       "25%         0.000000  \n",
       "50%         0.000000  \n",
       "75%         1.000000  \n",
       "max         2.000000  "
      ]
     },
     "execution_count": 8,
     "metadata": {},
     "output_type": "execute_result"
    }
   ],
   "source": [
    "houshold_raw[[ 'spouse', 'earn_male', 'earn_female', 'sex_if_single', 'flex', 'moonlit', 'selfemp', 'totwork', \n",
    "          'totcens','type', 'reb_spend', 'reb_save', 'reb_debt']].describe()"
   ]
  },
  {
   "cell_type": "code",
   "execution_count": 13,
   "metadata": {},
   "outputs": [
    {
     "data": {
      "text/plain": [
       "<bound method Index.sort of Index(['earn_female', 'earn_male', 'ehrefper', 'month', 'moonlit', 'reb_debt',\n",
       "       'reb_save', 'reb_spend', 'rf_new', 'selfemp', 'sex_if_single', 'tage',\n",
       "       'tftotinc', 'totcens', 'totearn', 'totinc', 'totwork', 'tpearn',\n",
       "       'tptotinc', 'type', 'year'],\n",
       "      dtype='object')>"
      ]
     },
     "execution_count": 13,
     "metadata": {},
     "output_type": "execute_result"
    }
   ],
   "source": [
    "#houshold[-['swave', 'famsize', 'tfearn', 'ssuid', 'epppnum', 'spouse', 'whfnwgt', 'flex', 'srefmon']].columns\n",
    "unknown_var_lst = houshold_raw[houshold_raw.columns.difference(['swave', 'famsize', 'tfearn', 'ssuid', 'epppnum',\n",
    "                                                        'spouse', 'whfnwgt', 'flex', 'srefmon','amt10', 'amt11', \n",
    "                                                        'amt12', 'amt4', 'amt5', 'amt6', 'amt7', 'amt8','amt9',\n",
    "                                                       'reb10', 'reb11', 'reb12', 'reb4', 'reb5', 'reb6', 'reb7', \n",
    "                                                        'reb8','reb9'])].columns\n",
    "\n",
    "# columns not used/described by Powell\n",
    "unknown_var_lst.sort"
   ]
  },
  {
   "cell_type": "code",
   "execution_count": 132,
   "metadata": {},
   "outputs": [
    {
     "name": "stdout",
     "output_type": "stream",
     "text": [
      "!!include as dummy !! \n",
      " paper: month relative to interview month \n",
      "\n"
     ]
    },
    {
     "data": {
      "text/plain": [
       "['Fourth Reference month', 'First Reference month', 'Second Reference month', 'Third Reference month']\n",
       "Categories (4, object): ['First Reference month' < 'Second Reference month' < 'Third Reference month' < 'Fourth Reference month']"
      ]
     },
     "execution_count": 132,
     "metadata": {},
     "output_type": "execute_result"
    }
   ],
   "source": [
    "print('!!include as dummy !! \\n paper: month relative to interview month \\n')\n",
    "houshold_raw['srefmon'].unique()"
   ]
  },
  {
   "cell_type": "code",
   "execution_count": 33,
   "metadata": {},
   "outputs": [
    {
     "name": "stdout",
     "output_type": "stream",
     "text": [
      "\n",
      " percentage of HHs getting rebate:  0.8169406291563064 \n",
      "\n"
     ]
    },
    {
     "data": {
      "text/html": [
       "<div>\n",
       "<style scoped>\n",
       "    .dataframe tbody tr th:only-of-type {\n",
       "        vertical-align: middle;\n",
       "    }\n",
       "\n",
       "    .dataframe tbody tr th {\n",
       "        vertical-align: top;\n",
       "    }\n",
       "\n",
       "    .dataframe thead th {\n",
       "        text-align: right;\n",
       "    }\n",
       "</style>\n",
       "<table border=\"1\" class=\"dataframe\">\n",
       "  <thead>\n",
       "    <tr style=\"text-align: right;\">\n",
       "      <th></th>\n",
       "      <th>reb4</th>\n",
       "      <th>reb5</th>\n",
       "      <th>reb6</th>\n",
       "      <th>reb7</th>\n",
       "      <th>reb8</th>\n",
       "      <th>reb9</th>\n",
       "      <th>reb10</th>\n",
       "      <th>reb11</th>\n",
       "      <th>reb12</th>\n",
       "    </tr>\n",
       "  </thead>\n",
       "  <tbody>\n",
       "    <tr>\n",
       "      <th>count</th>\n",
       "      <td>183984.000000</td>\n",
       "      <td>183984.000000</td>\n",
       "      <td>183984.000000</td>\n",
       "      <td>183984.000000</td>\n",
       "      <td>183984.000000</td>\n",
       "      <td>183984.000000</td>\n",
       "      <td>183984.000000</td>\n",
       "      <td>183984.000000</td>\n",
       "      <td>183984.000000</td>\n",
       "    </tr>\n",
       "    <tr>\n",
       "      <th>mean</th>\n",
       "      <td>0.057744</td>\n",
       "      <td>0.243891</td>\n",
       "      <td>0.267241</td>\n",
       "      <td>0.183799</td>\n",
       "      <td>0.038438</td>\n",
       "      <td>0.011175</td>\n",
       "      <td>0.007088</td>\n",
       "      <td>0.005348</td>\n",
       "      <td>0.002218</td>\n",
       "    </tr>\n",
       "    <tr>\n",
       "      <th>std</th>\n",
       "      <td>0.233184</td>\n",
       "      <td>0.429105</td>\n",
       "      <td>0.442716</td>\n",
       "      <td>0.387146</td>\n",
       "      <td>0.192229</td>\n",
       "      <td>0.105107</td>\n",
       "      <td>0.083865</td>\n",
       "      <td>0.072844</td>\n",
       "      <td>0.047014</td>\n",
       "    </tr>\n",
       "    <tr>\n",
       "      <th>min</th>\n",
       "      <td>0.000000</td>\n",
       "      <td>0.000000</td>\n",
       "      <td>0.000000</td>\n",
       "      <td>0.000000</td>\n",
       "      <td>0.000000</td>\n",
       "      <td>0.000000</td>\n",
       "      <td>0.000000</td>\n",
       "      <td>0.000000</td>\n",
       "      <td>0.000000</td>\n",
       "    </tr>\n",
       "    <tr>\n",
       "      <th>25%</th>\n",
       "      <td>0.000000</td>\n",
       "      <td>0.000000</td>\n",
       "      <td>0.000000</td>\n",
       "      <td>0.000000</td>\n",
       "      <td>0.000000</td>\n",
       "      <td>0.000000</td>\n",
       "      <td>0.000000</td>\n",
       "      <td>0.000000</td>\n",
       "      <td>0.000000</td>\n",
       "    </tr>\n",
       "    <tr>\n",
       "      <th>50%</th>\n",
       "      <td>0.000000</td>\n",
       "      <td>0.000000</td>\n",
       "      <td>0.000000</td>\n",
       "      <td>0.000000</td>\n",
       "      <td>0.000000</td>\n",
       "      <td>0.000000</td>\n",
       "      <td>0.000000</td>\n",
       "      <td>0.000000</td>\n",
       "      <td>0.000000</td>\n",
       "    </tr>\n",
       "    <tr>\n",
       "      <th>75%</th>\n",
       "      <td>0.000000</td>\n",
       "      <td>0.000000</td>\n",
       "      <td>1.000000</td>\n",
       "      <td>0.000000</td>\n",
       "      <td>0.000000</td>\n",
       "      <td>0.000000</td>\n",
       "      <td>0.000000</td>\n",
       "      <td>0.000000</td>\n",
       "      <td>0.000000</td>\n",
       "    </tr>\n",
       "    <tr>\n",
       "      <th>max</th>\n",
       "      <td>1.000000</td>\n",
       "      <td>1.000000</td>\n",
       "      <td>1.000000</td>\n",
       "      <td>1.000000</td>\n",
       "      <td>1.000000</td>\n",
       "      <td>1.000000</td>\n",
       "      <td>1.000000</td>\n",
       "      <td>1.000000</td>\n",
       "      <td>1.000000</td>\n",
       "    </tr>\n",
       "  </tbody>\n",
       "</table>\n",
       "</div>"
      ],
      "text/plain": [
       "                reb4           reb5           reb6           reb7  \\\n",
       "count  183984.000000  183984.000000  183984.000000  183984.000000   \n",
       "mean        0.057744       0.243891       0.267241       0.183799   \n",
       "std         0.233184       0.429105       0.442716       0.387146   \n",
       "min         0.000000       0.000000       0.000000       0.000000   \n",
       "25%         0.000000       0.000000       0.000000       0.000000   \n",
       "50%         0.000000       0.000000       0.000000       0.000000   \n",
       "75%         0.000000       0.000000       1.000000       0.000000   \n",
       "max         1.000000       1.000000       1.000000       1.000000   \n",
       "\n",
       "                reb8           reb9          reb10          reb11  \\\n",
       "count  183984.000000  183984.000000  183984.000000  183984.000000   \n",
       "mean        0.038438       0.011175       0.007088       0.005348   \n",
       "std         0.192229       0.105107       0.083865       0.072844   \n",
       "min         0.000000       0.000000       0.000000       0.000000   \n",
       "25%         0.000000       0.000000       0.000000       0.000000   \n",
       "50%         0.000000       0.000000       0.000000       0.000000   \n",
       "75%         0.000000       0.000000       0.000000       0.000000   \n",
       "max         1.000000       1.000000       1.000000       1.000000   \n",
       "\n",
       "               reb12  \n",
       "count  183984.000000  \n",
       "mean        0.002218  \n",
       "std         0.047014  \n",
       "min         0.000000  \n",
       "25%         0.000000  \n",
       "50%         0.000000  \n",
       "75%         0.000000  \n",
       "max         1.000000  "
      ]
     },
     "execution_count": 33,
     "metadata": {},
     "output_type": "execute_result"
    }
   ],
   "source": [
    "print('\\n percentage of HHs getting rebate: ', houshold_raw[['reb4', 'reb5', 'reb6', 'reb7', 'reb8','reb9', \n",
    "                'reb10', 'reb11', 'reb12']].describe()[1:2].sum().sum(),'\\n')\n",
    "\n",
    "houshold_raw[['reb4', 'reb5', 'reb6', 'reb7', 'reb8','reb9', 'reb10', 'reb11', 'reb12']].describe()"
   ]
  },
  {
   "cell_type": "code",
   "execution_count": 313,
   "metadata": {
    "scrolled": true
   },
   "outputs": [
    {
     "data": {
      "text/plain": [
       "<AxesSubplot:>"
      ]
     },
     "execution_count": 313,
     "metadata": {},
     "output_type": "execute_result"
    },
    {
     "data": {
      "image/png": "[encoded data removed]",
      "text/plain": [
       "<Figure size 432x288 with 1 Axes>"
      ]
     },
     "metadata": {
      "needs_background": "light"
     },
     "output_type": "display_data"
    }
   ],
   "source": [
    "houshold_raw['tage'].hist()"
   ]
  },
  {
   "cell_type": "code",
   "execution_count": 253,
   "metadata": {},
   "outputs": [
    {
     "data": {
      "text/html": [
       "<div>\n",
       "<style scoped>\n",
       "    .dataframe tbody tr th:only-of-type {\n",
       "        vertical-align: middle;\n",
       "    }\n",
       "\n",
       "    .dataframe tbody tr th {\n",
       "        vertical-align: top;\n",
       "    }\n",
       "\n",
       "    .dataframe thead th {\n",
       "        text-align: right;\n",
       "    }\n",
       "</style>\n",
       "<table border=\"1\" class=\"dataframe\">\n",
       "  <thead>\n",
       "    <tr style=\"text-align: right;\">\n",
       "      <th></th>\n",
       "      <th>earn_male</th>\n",
       "      <th>earn_female</th>\n",
       "    </tr>\n",
       "  </thead>\n",
       "  <tbody>\n",
       "    <tr>\n",
       "      <th>count</th>\n",
       "      <td>311053.000000</td>\n",
       "      <td>348261.000000</td>\n",
       "    </tr>\n",
       "    <tr>\n",
       "      <th>mean</th>\n",
       "      <td>4118.764648</td>\n",
       "      <td>2260.470215</td>\n",
       "    </tr>\n",
       "    <tr>\n",
       "      <th>std</th>\n",
       "      <td>4972.812012</td>\n",
       "      <td>3066.344238</td>\n",
       "    </tr>\n",
       "    <tr>\n",
       "      <th>min</th>\n",
       "      <td>-50000.000000</td>\n",
       "      <td>-20588.000000</td>\n",
       "    </tr>\n",
       "    <tr>\n",
       "      <th>25%</th>\n",
       "      <td>1198.000000</td>\n",
       "      <td>0.000000</td>\n",
       "    </tr>\n",
       "    <tr>\n",
       "      <th>50%</th>\n",
       "      <td>3124.000000</td>\n",
       "      <td>1583.000000</td>\n",
       "    </tr>\n",
       "    <tr>\n",
       "      <th>75%</th>\n",
       "      <td>5417.000000</td>\n",
       "      <td>3333.000000</td>\n",
       "    </tr>\n",
       "    <tr>\n",
       "      <th>max</th>\n",
       "      <td>96244.000000</td>\n",
       "      <td>93500.000000</td>\n",
       "    </tr>\n",
       "  </tbody>\n",
       "</table>\n",
       "</div>"
      ],
      "text/plain": [
       "           earn_male    earn_female\n",
       "count  311053.000000  348261.000000\n",
       "mean     4118.764648    2260.470215\n",
       "std      4972.812012    3066.344238\n",
       "min    -50000.000000  -20588.000000\n",
       "25%      1198.000000       0.000000\n",
       "50%      3124.000000    1583.000000\n",
       "75%      5417.000000    3333.000000\n",
       "max     96244.000000   93500.000000"
      ]
     },
     "execution_count": 253,
     "metadata": {},
     "output_type": "execute_result"
    }
   ],
   "source": [
    "houshold_raw[['earn_male', 'earn_female']].describe()"
   ]
  },
  {
   "cell_type": "markdown",
   "metadata": {},
   "source": [
    "# Data Cleaning \n",
    "\n",
    "- keep if swave<3\n",
    "- replace month=12+month if year==2009\n",
    "- minmonth=min(month), by(ssuid epppnum) ?\n",
    "- famsize=6 if famsize>6 (keep?)\n",
    "- pp=group(ssuid epppnum)\n",
    "    -> bys pp: keep if _N==8\n",
    "- ??? rebate: replace X=X/1000 ???\n",
    "\n",
    "## ToDo:\n",
    "\n",
    "- drop observations with rebate_month not in observations?\n",
    "- robustness check(?): keep all waves and see if longer timeframes available for sufficiently large N\n",
    "- topcoding? income<0; familysize; \n",
    "- tpearn= tfearn ?\n",
    "- create dummies for variables to control for in tau \n",
    "> start with the variables used in the paper. 'interactions permit the earnings distribution to shift based on':\n",
    "> - marital status\n",
    "> - family size \n",
    "> - month\n",
    "> - month relative to the interview month\n",
    "\n",
    "- **optional**: add assert statements to the functions for error handling"
   ]
  },
  {
   "cell_type": "code",
   "execution_count": 296,
   "metadata": {
    "scrolled": true
   },
   "outputs": [
    {
     "data": {
      "text/plain": [
       "(198574, 50)"
      ]
     },
     "execution_count": 296,
     "metadata": {},
     "output_type": "execute_result"
    },
    {
     "data": {
      "image/png": "[encoded data removed]",
      "text/plain": [
       "<Figure size 432x288 with 1 Axes>"
      ]
     },
     "metadata": {
      "needs_background": "light"
     },
     "output_type": "display_data"
    }
   ],
   "source": [
    "houshold_raw['swave'].hist()\n",
    "houshold = houshold_raw[houshold_raw.swave <= 2]\n",
    "houshold.shape"
   ]
  },
  {
   "cell_type": "markdown",
   "metadata": {},
   "source": [
    "# Create Variables\n",
    "- pp as index\n",
    "- pp_count to subset to houshold available for 8 periods \n",
    "- month_total\n",
    "- amt_tot\n",
    "- everreb\n",
    "- min_month\n",
    "- reb_month\n",
    "- lag_time\n",
    "- change_spouse\n",
    "\n",
    "## ToDo\n",
    "\n",
    "- define mu_i\n",
    "- dummies for houshold characteristics-groupings\n",
    "- **check that housholds with multiple individuals are not duplicated**\n",
    "> - pp is unique identifier from epppnum + ssuid, ssuid is the HH-id\n",
    "> - to have some individual data, both individuals are in the data set\n",
    "> - explore observations grouped by ssuid with count(ssuid) > 1\n"
   ]
  },
  {
   "cell_type": "code",
   "execution_count": 297,
   "metadata": {
    "scrolled": false
   },
   "outputs": [
    {
     "name": "stdout",
     "output_type": "stream",
     "text": [
      "22998\n"
     ]
    },
    {
     "data": {
      "text/plain": [
       "(183984, 51)"
      ]
     },
     "execution_count": 297,
     "metadata": {},
     "output_type": "execute_result"
    }
   ],
   "source": [
    "#houshold['epppnum'].unique().shape #11\n",
    "#houshold['ssuid'].unique().shape #26519\n",
    "\n",
    "houshold['pp'] = houshold.groupby(['ssuid','epppnum']).ngroup() #26569 unique\n",
    "pp_count = houshold.groupby(['pp']).size() # need index for merging!\n",
    "\n",
    "houshold = houshold.merge(pp_count.rename('pp_count'), how = 'outer', left_on = 'pp', right_index = True)\n",
    "houshold = houshold[houshold['pp_count']== 8]\n",
    "\n",
    "print(len(houshold['pp'].unique())) #  N = 22998 as in figure 1 (results) Powell(2020) (dropped ~4k)\n",
    "houshold.shape # (198574, 51)"
   ]
  },
  {
   "cell_type": "code",
   "execution_count": 332,
   "metadata": {},
   "outputs": [
    {
     "name": "stdout",
     "output_type": "stream",
     "text": [
      "there are a lot of HHs with more than 8 periods available!\n"
     ]
    },
    {
     "data": {
      "image/png": "[encoded data removed]",
      "text/plain": [
       "<Figure size 432x288 with 1 Axes>"
      ]
     },
     "metadata": {
      "needs_background": "light"
     },
     "output_type": "display_data"
    }
   ],
   "source": [
    "houshold2 = houshold_raw\n",
    "houshold2['pp'] = houshold_raw.groupby(['ssuid','epppnum']).ngroup() #26569 unique\n",
    "#houshold2.drop('pp', axis=1, inplace=True)\n",
    "pp_count = houshold2.groupby(['pp']).size() # need index for merging!\n",
    "pp_count.hist()\n",
    "del houshold2\n",
    "#houshold2 = houshold2.merge(pp_count.rename('pp_count'), how = 'outer', left_on = 'pp', right_index = True)\n",
    "#houshold2[houshold2['pp_count']< 8].shape\n",
    "print('there are a lot of HHs with more than 8 periods available!')"
   ]
  },
  {
   "cell_type": "code",
   "execution_count": 299,
   "metadata": {},
   "outputs": [
    {
     "data": {
      "text/html": [
       "<div>\n",
       "<style scoped>\n",
       "    .dataframe tbody tr th:only-of-type {\n",
       "        vertical-align: middle;\n",
       "    }\n",
       "\n",
       "    .dataframe tbody tr th {\n",
       "        vertical-align: top;\n",
       "    }\n",
       "\n",
       "    .dataframe thead th {\n",
       "        text-align: right;\n",
       "    }\n",
       "</style>\n",
       "<table border=\"1\" class=\"dataframe\">\n",
       "  <thead>\n",
       "    <tr style=\"text-align: right;\">\n",
       "      <th></th>\n",
       "      <th>ssuid</th>\n",
       "      <th>swave</th>\n",
       "      <th>srefmon</th>\n",
       "      <th>month</th>\n",
       "      <th>year</th>\n",
       "      <th>ehrefper</th>\n",
       "      <th>whfnwgt</th>\n",
       "      <th>tfearn</th>\n",
       "      <th>tftotinc</th>\n",
       "      <th>epppnum</th>\n",
       "      <th>...</th>\n",
       "      <th>reb9</th>\n",
       "      <th>amt9</th>\n",
       "      <th>reb10</th>\n",
       "      <th>amt10</th>\n",
       "      <th>reb11</th>\n",
       "      <th>amt11</th>\n",
       "      <th>reb12</th>\n",
       "      <th>amt12</th>\n",
       "      <th>everreb</th>\n",
       "      <th>pp_count</th>\n",
       "    </tr>\n",
       "    <tr>\n",
       "      <th>pp</th>\n",
       "      <th></th>\n",
       "      <th></th>\n",
       "      <th></th>\n",
       "      <th></th>\n",
       "      <th></th>\n",
       "      <th></th>\n",
       "      <th></th>\n",
       "      <th></th>\n",
       "      <th></th>\n",
       "      <th></th>\n",
       "      <th></th>\n",
       "      <th></th>\n",
       "      <th></th>\n",
       "      <th></th>\n",
       "      <th></th>\n",
       "      <th></th>\n",
       "      <th></th>\n",
       "      <th></th>\n",
       "      <th></th>\n",
       "      <th></th>\n",
       "      <th></th>\n",
       "    </tr>\n",
       "  </thead>\n",
       "  <tbody>\n",
       "    <tr>\n",
       "      <th>0</th>\n",
       "      <td>019128000276</td>\n",
       "      <td>2</td>\n",
       "      <td>Fourth Reference month</td>\n",
       "      <td>January</td>\n",
       "      <td>2009</td>\n",
       "      <td>101</td>\n",
       "      <td>3973.9954</td>\n",
       "      <td>0</td>\n",
       "      <td>381</td>\n",
       "      <td>0101</td>\n",
       "      <td>...</td>\n",
       "      <td>0.0</td>\n",
       "      <td>0.0</td>\n",
       "      <td>0.0</td>\n",
       "      <td>0.0</td>\n",
       "      <td>0.0</td>\n",
       "      <td>0.0</td>\n",
       "      <td>0.0</td>\n",
       "      <td>0.0</td>\n",
       "      <td>0.0</td>\n",
       "      <td>8</td>\n",
       "    </tr>\n",
       "    <tr>\n",
       "      <th>0</th>\n",
       "      <td>019128000276</td>\n",
       "      <td>1</td>\n",
       "      <td>First Reference month</td>\n",
       "      <td>June</td>\n",
       "      <td>2008</td>\n",
       "      <td>101</td>\n",
       "      <td>3282.6489</td>\n",
       "      <td>0</td>\n",
       "      <td>1099</td>\n",
       "      <td>0101</td>\n",
       "      <td>...</td>\n",
       "      <td>0.0</td>\n",
       "      <td>0.0</td>\n",
       "      <td>0.0</td>\n",
       "      <td>0.0</td>\n",
       "      <td>0.0</td>\n",
       "      <td>0.0</td>\n",
       "      <td>0.0</td>\n",
       "      <td>0.0</td>\n",
       "      <td>0.0</td>\n",
       "      <td>8</td>\n",
       "    </tr>\n",
       "    <tr>\n",
       "      <th>0</th>\n",
       "      <td>019128000276</td>\n",
       "      <td>1</td>\n",
       "      <td>Second Reference month</td>\n",
       "      <td>July</td>\n",
       "      <td>2008</td>\n",
       "      <td>101</td>\n",
       "      <td>3269.0889</td>\n",
       "      <td>0</td>\n",
       "      <td>1099</td>\n",
       "      <td>0101</td>\n",
       "      <td>...</td>\n",
       "      <td>0.0</td>\n",
       "      <td>0.0</td>\n",
       "      <td>0.0</td>\n",
       "      <td>0.0</td>\n",
       "      <td>0.0</td>\n",
       "      <td>0.0</td>\n",
       "      <td>0.0</td>\n",
       "      <td>0.0</td>\n",
       "      <td>0.0</td>\n",
       "      <td>8</td>\n",
       "    </tr>\n",
       "    <tr>\n",
       "      <th>0</th>\n",
       "      <td>019128000276</td>\n",
       "      <td>1</td>\n",
       "      <td>Third Reference month</td>\n",
       "      <td>August</td>\n",
       "      <td>2008</td>\n",
       "      <td>101</td>\n",
       "      <td>3262.1228</td>\n",
       "      <td>0</td>\n",
       "      <td>1099</td>\n",
       "      <td>0101</td>\n",
       "      <td>...</td>\n",
       "      <td>0.0</td>\n",
       "      <td>0.0</td>\n",
       "      <td>0.0</td>\n",
       "      <td>0.0</td>\n",
       "      <td>0.0</td>\n",
       "      <td>0.0</td>\n",
       "      <td>0.0</td>\n",
       "      <td>0.0</td>\n",
       "      <td>0.0</td>\n",
       "      <td>8</td>\n",
       "    </tr>\n",
       "    <tr>\n",
       "      <th>0</th>\n",
       "      <td>019128000276</td>\n",
       "      <td>1</td>\n",
       "      <td>Fourth Reference month</td>\n",
       "      <td>September</td>\n",
       "      <td>2008</td>\n",
       "      <td>101</td>\n",
       "      <td>3242.7625</td>\n",
       "      <td>0</td>\n",
       "      <td>1099</td>\n",
       "      <td>0101</td>\n",
       "      <td>...</td>\n",
       "      <td>0.0</td>\n",
       "      <td>0.0</td>\n",
       "      <td>0.0</td>\n",
       "      <td>0.0</td>\n",
       "      <td>0.0</td>\n",
       "      <td>0.0</td>\n",
       "      <td>0.0</td>\n",
       "      <td>0.0</td>\n",
       "      <td>0.0</td>\n",
       "      <td>8</td>\n",
       "    </tr>\n",
       "  </tbody>\n",
       "</table>\n",
       "<p>5 rows × 50 columns</p>\n",
       "</div>"
      ],
      "text/plain": [
       "           ssuid  swave                 srefmon      month  year  ehrefper  \\\n",
       "pp                                                                           \n",
       "0   019128000276      2  Fourth Reference month    January  2009       101   \n",
       "0   019128000276      1   First Reference month       June  2008       101   \n",
       "0   019128000276      1  Second Reference month       July  2008       101   \n",
       "0   019128000276      1   Third Reference month     August  2008       101   \n",
       "0   019128000276      1  Fourth Reference month  September  2008       101   \n",
       "\n",
       "      whfnwgt  tfearn  tftotinc epppnum  ... reb9 amt9 reb10  amt10  reb11  \\\n",
       "pp                                       ...                                 \n",
       "0   3973.9954       0       381    0101  ...  0.0  0.0   0.0    0.0    0.0   \n",
       "0   3282.6489       0      1099    0101  ...  0.0  0.0   0.0    0.0    0.0   \n",
       "0   3269.0889       0      1099    0101  ...  0.0  0.0   0.0    0.0    0.0   \n",
       "0   3262.1228       0      1099    0101  ...  0.0  0.0   0.0    0.0    0.0   \n",
       "0   3242.7625       0      1099    0101  ...  0.0  0.0   0.0    0.0    0.0   \n",
       "\n",
       "    amt11  reb12  amt12  everreb  pp_count  \n",
       "pp                                          \n",
       "0     0.0    0.0    0.0      0.0         8  \n",
       "0     0.0    0.0    0.0      0.0         8  \n",
       "0     0.0    0.0    0.0      0.0         8  \n",
       "0     0.0    0.0    0.0      0.0         8  \n",
       "0     0.0    0.0    0.0      0.0         8  \n",
       "\n",
       "[5 rows x 50 columns]"
      ]
     },
     "execution_count": 299,
     "metadata": {},
     "output_type": "execute_result"
    }
   ],
   "source": [
    "houshold.set_index('pp', inplace = True)\n",
    "houshold.head()"
   ]
  },
  {
   "cell_type": "code",
   "execution_count": 300,
   "metadata": {},
   "outputs": [
    {
     "data": {
      "text/plain": [
       "count    183984.000000\n",
       "mean        728.870422\n",
       "std         560.518372\n",
       "min           0.000000\n",
       "25%         300.000000\n",
       "50%         600.000000\n",
       "75%        1200.000000\n",
       "max        4500.000000\n",
       "Name: amt_tot, dtype: float64"
      ]
     },
     "execution_count": 300,
     "metadata": {},
     "output_type": "execute_result"
    }
   ],
   "source": [
    "houshold['amt_tot'] = houshold[['amt4', 'amt5', 'amt6',\n",
    "                                'amt7', 'amt8','amt9', 'amt10', 'amt11', 'amt12']].sum(axis=1)\n",
    "houshold['amt_tot'].describe()"
   ]
  },
  {
   "cell_type": "code",
   "execution_count": 301,
   "metadata": {},
   "outputs": [
    {
     "data": {
      "text/plain": [
       "count    183984.000000\n",
       "mean          0.816941\n",
       "std           0.386538\n",
       "min           0.000000\n",
       "25%           1.000000\n",
       "50%           1.000000\n",
       "75%           1.000000\n",
       "max           1.000000\n",
       "Name: everreb, dtype: float64"
      ]
     },
     "execution_count": 301,
     "metadata": {},
     "output_type": "execute_result"
    }
   ],
   "source": [
    "#  sum of all rebate dummy columns\n",
    "houshold['everreb'] = houshold[['reb4', 'reb5', 'reb6', 'reb7',\n",
    "                                'reb8','reb9', 'reb10', 'reb11', 'reb12']].sum(axis=1)\n",
    "houshold['everreb'].describe()"
   ]
  },
  {
   "cell_type": "code",
   "execution_count": 302,
   "metadata": {},
   "outputs": [
    {
     "name": "stdout",
     "output_type": "stream",
     "text": [
      "\n",
      " If unable to use NaN in lags, also look for which timeframe has the largest obs-count \n",
      "\n"
     ]
    },
    {
     "data": {
      "text/plain": [
       "<AxesSubplot:>"
      ]
     },
     "execution_count": 302,
     "metadata": {},
     "output_type": "execute_result"
    },
    {
     "data": {
      "image/png": "[encoded data removed]",
      "text/plain": [
       "<Figure size 432x288 with 1 Axes>"
      ]
     },
     "metadata": {
      "needs_background": "light"
     },
     "output_type": "display_data"
    }
   ],
   "source": [
    "month_number_dict = {\n",
    "    'January' : 1,\n",
    "    'February' : 2,\n",
    "    'March' : 3,\n",
    "    'April' : 4,\n",
    "    'May' : 5,\n",
    "    'June' : 6,\n",
    "    'July' : 7,\n",
    "    'August' : 8,\n",
    "    'September' : 9,\n",
    "    'October' : 10,\n",
    "    'November' : 11,\n",
    "    'December' : 12\n",
    "}\n",
    "\n",
    "houshold.replace({'month': month_number_dict}, inplace = True)\n",
    "\n",
    "# lambda function to get total month (Jan 2008 != Jan 2009)\n",
    "def get_total_month(year,month):\n",
    "    if year == 2009:\n",
    "        return month+12\n",
    "    else:\n",
    "        return month\n",
    "        \n",
    "houshold['month_total'] = houshold.apply(lambda x: get_total_month(x['year'],x['month']),axis=1)\n",
    "\n",
    "print('\\n If unable to use NaN in lags, also look for which timeframe has the largest obs-count \\n')\n",
    "\n",
    "houshold['month_total'].hist(grid=False, bins = len(houshold['month_total'].unique()))"
   ]
  },
  {
   "cell_type": "code",
   "execution_count": 303,
   "metadata": {},
   "outputs": [
    {
     "data": {
      "text/plain": [
       "count    22998.000000\n",
       "mean         6.503913\n",
       "std          1.111733\n",
       "min          5.000000\n",
       "25%          6.000000\n",
       "50%          6.000000\n",
       "75%          7.000000\n",
       "max          8.000000\n",
       "Name: month_total, dtype: float64"
      ]
     },
     "execution_count": 303,
     "metadata": {},
     "output_type": "execute_result"
    }
   ],
   "source": [
    "min_month = houshold.groupby('pp')['month_total'].min()\n",
    "min_month.describe()"
   ]
  },
  {
   "cell_type": "code",
   "execution_count": 304,
   "metadata": {},
   "outputs": [
    {
     "data": {
      "text/plain": [
       "array([nan, '5', '6', '4', '7', '8', '10', '9', '11', '12'], dtype=object)"
      ]
     },
     "execution_count": 304,
     "metadata": {},
     "output_type": "execute_result"
    }
   ],
   "source": [
    "# get month of payout from rebX columns\n",
    "houshold['reb_month'] = houshold[['reb4', 'reb5', 'reb6', 'reb7','reb8','reb9', 'reb10', 'reb11',\n",
    "          'reb12']].idxmax(axis=1).str.slice(start = 3)\n",
    "\n",
    "def correct_reb_month(reb_month,everreb):\n",
    "    if everreb == 0:\n",
    "        return np.NaN\n",
    "    else:\n",
    "        return reb_month\n",
    "        \n",
    "houshold['reb_month'] = houshold.apply(lambda x: correct_reb_month(x['reb_month'],x['everreb']),axis=1)\n",
    "\n",
    "houshold['reb_month'].unique()"
   ]
  },
  {
   "cell_type": "code",
   "execution_count": 339,
   "metadata": {},
   "outputs": [
    {
     "data": {
      "text/plain": [
       "<AxesSubplot:>"
      ]
     },
     "execution_count": 339,
     "metadata": {},
     "output_type": "execute_result"
    },
    {
     "data": {
      "image/png": "[encoded data removed]",
      "text/plain": [
       "<Figure size 432x288 with 1 Axes>"
      ]
     },
     "metadata": {
      "needs_background": "light"
     },
     "output_type": "display_data"
    }
   ],
   "source": [
    "houshold[houshold['reb_month']<=7]['reb_month'].hist()\n",
    "houshold[houshold['reb_month']>7]['reb_month'].hist()"
   ]
  },
  {
   "cell_type": "code",
   "execution_count": 1,
   "metadata": {},
   "outputs": [
    {
     "ename": "NameError",
     "evalue": "name 'houshold' is not defined",
     "output_type": "error",
     "traceback": [
      "\u001b[0;31m---------------------------------------------------------------------------\u001b[0m",
      "\u001b[0;31mNameError\u001b[0m                                 Traceback (most recent call last)",
      "\u001b[0;32m<ipython-input-1-108ce975a411>\u001b[0m in \u001b[0;36m<module>\u001b[0;34m\u001b[0m\n\u001b[0;32m----> 1\u001b[0;31m \u001b[0mhoushold\u001b[0m\u001b[0;34m[\u001b[0m\u001b[0mhoushold\u001b[0m\u001b[0;34m[\u001b[0m\u001b[0;34m'reb_month'\u001b[0m\u001b[0;34m]\u001b[0m\u001b[0;34m>\u001b[0m\u001b[0;36m9\u001b[0m\u001b[0;34m]\u001b[0m\u001b[0;34m\u001b[0m\u001b[0;34m\u001b[0m\u001b[0m\n\u001b[0m",
      "\u001b[0;31mNameError\u001b[0m: name 'houshold' is not defined"
     ]
    }
   ],
   "source": [
    "houshold[houshold['reb_month']>9]"
   ]
  },
  {
   "cell_type": "code",
   "execution_count": 305,
   "metadata": {},
   "outputs": [
    {
     "data": {
      "text/plain": [
       "array([nan,  8.,  1.,  2.,  3.,  4.,  5.,  6.,  7.,  0.,  9., -1., -2.,\n",
       "       -4., -3., -5., 10., 11., -6., -7.])"
      ]
     },
     "execution_count": 305,
     "metadata": {},
     "output_type": "execute_result"
    }
   ],
   "source": [
    "houshold['reb_month'] = pd.to_numeric(houshold['reb_month'])#.astype(int)\n",
    "houshold['lag_time'] =  houshold['month_total'] - houshold['reb_month']\n",
    "houshold['lag_time'].unique()\n",
    "# drop NaN and convert to int(?)"
   ]
  },
  {
   "cell_type": "code",
   "execution_count": 327,
   "metadata": {},
   "outputs": [
    {
     "data": {
      "text/plain": [
       "<AxesSubplot:>"
      ]
     },
     "execution_count": 327,
     "metadata": {},
     "output_type": "execute_result"
    },
    {
     "data": {
      "image/png": "[encoded data removed]",
      "text/plain": [
       "<Figure size 432x288 with 1 Axes>"
      ]
     },
     "metadata": {
      "needs_background": "light"
     },
     "output_type": "display_data"
    }
   ],
   "source": [
    "houshold['lag_time'].hist()\n",
    "houshold[houshold['lag_time'] == 5].shape"
   ]
  },
  {
   "cell_type": "code",
   "execution_count": 306,
   "metadata": {},
   "outputs": [
    {
     "data": {
      "text/plain": [
       "count    150304.000000\n",
       "mean          3.995423\n",
       "std           2.807277\n",
       "min          -7.000000\n",
       "25%           2.000000\n",
       "50%           4.000000\n",
       "75%           6.000000\n",
       "max          11.000000\n",
       "Name: lag_time, dtype: float64"
      ]
     },
     "execution_count": 306,
     "metadata": {},
     "output_type": "execute_result"
    }
   ],
   "source": [
    "#houshold[['month_total', 'reb_month', 'lag_time']]\n",
    "houshold['lag_time'].describe()"
   ]
  },
  {
   "cell_type": "code",
   "execution_count": 307,
   "metadata": {},
   "outputs": [
    {
     "name": "stdout",
     "output_type": "stream",
     "text": [
      "479\n",
      "Should I include this? This is one of the few continous variables\n"
     ]
    },
    {
     "data": {
      "image/png": "[encoded data removed]",
      "text/plain": [
       "<Figure size 432x288 with 1 Axes>"
      ]
     },
     "metadata": {
      "needs_background": "light"
     },
     "output_type": "display_data"
    }
   ],
   "source": [
    "# topcode family size like in Powell paper -> replace famsize=6 if famsize>6\n",
    "# should this step be excluded?\n",
    "print(len(houshold.index[houshold['famsize'] > 6].unique())) # 479 families\n",
    "houshold['famsize'][houshold['famsize'] > 6].hist()\n",
    "\n",
    "houshold['famsize'][houshold['famsize'] > 6] = 6\n",
    "\n",
    "print('Should I include this? This is one of the few continous variables')"
   ]
  },
  {
   "cell_type": "code",
   "execution_count": 308,
   "metadata": {},
   "outputs": [
    {
     "data": {
      "text/html": [
       "<div>\n",
       "<style scoped>\n",
       "    .dataframe tbody tr th:only-of-type {\n",
       "        vertical-align: middle;\n",
       "    }\n",
       "\n",
       "    .dataframe tbody tr th {\n",
       "        vertical-align: top;\n",
       "    }\n",
       "\n",
       "    .dataframe thead th {\n",
       "        text-align: right;\n",
       "    }\n",
       "</style>\n",
       "<table border=\"1\" class=\"dataframe\">\n",
       "  <thead>\n",
       "    <tr style=\"text-align: right;\">\n",
       "      <th></th>\n",
       "      <th>change_spouse</th>\n",
       "      <th>spouse_sum</th>\n",
       "    </tr>\n",
       "  </thead>\n",
       "  <tbody>\n",
       "    <tr>\n",
       "      <th>count</th>\n",
       "      <td>183984.000000</td>\n",
       "      <td>183984.000000</td>\n",
       "    </tr>\n",
       "    <tr>\n",
       "      <th>mean</th>\n",
       "      <td>0.006305</td>\n",
       "      <td>4.617662</td>\n",
       "    </tr>\n",
       "    <tr>\n",
       "      <th>std</th>\n",
       "      <td>0.079153</td>\n",
       "      <td>3.943544</td>\n",
       "    </tr>\n",
       "    <tr>\n",
       "      <th>min</th>\n",
       "      <td>0.000000</td>\n",
       "      <td>0.000000</td>\n",
       "    </tr>\n",
       "    <tr>\n",
       "      <th>25%</th>\n",
       "      <td>0.000000</td>\n",
       "      <td>0.000000</td>\n",
       "    </tr>\n",
       "    <tr>\n",
       "      <th>50%</th>\n",
       "      <td>0.000000</td>\n",
       "      <td>8.000000</td>\n",
       "    </tr>\n",
       "    <tr>\n",
       "      <th>75%</th>\n",
       "      <td>0.000000</td>\n",
       "      <td>8.000000</td>\n",
       "    </tr>\n",
       "    <tr>\n",
       "      <th>max</th>\n",
       "      <td>1.000000</td>\n",
       "      <td>8.000000</td>\n",
       "    </tr>\n",
       "  </tbody>\n",
       "</table>\n",
       "</div>"
      ],
      "text/plain": [
       "       change_spouse     spouse_sum\n",
       "count  183984.000000  183984.000000\n",
       "mean        0.006305       4.617662\n",
       "std         0.079153       3.943544\n",
       "min         0.000000       0.000000\n",
       "25%         0.000000       0.000000\n",
       "50%         0.000000       8.000000\n",
       "75%         0.000000       8.000000\n",
       "max         1.000000       8.000000"
      ]
     },
     "execution_count": 308,
     "metadata": {},
     "output_type": "execute_result"
    }
   ],
   "source": [
    "# generate dummy for change in maritial status\n",
    "spouse_sum = houshold.groupby(['pp'])['spouse'].sum()\n",
    "houshold = houshold.merge(houshold.groupby(['pp'])['spouse'].sum(), on = 'pp', how = 'left' )\n",
    "houshold['spouse'] = houshold['spouse_x']\n",
    "houshold['spouse_sum'] = houshold['spouse_y']\n",
    "houshold.drop('spouse_x', axis = 1, inplace = True)\n",
    "houshold.drop('spouse_y', axis = 1, inplace = True)\n",
    "\n",
    "#houshold[['spouse', 'spouse_sum']].describe()\n",
    "#houshold['spouse_sum'].unique()\n",
    "\n",
    "def get_change_spouse(spouse_sum):\n",
    "    if spouse_sum == 0 or spouse_sum == 8 :\n",
    "        return 0\n",
    "    else:\n",
    "        return 1\n",
    "        \n",
    "houshold['change_spouse'] = houshold.apply(lambda x: get_change_spouse(x['spouse_sum']),axis=1)\n",
    "\n",
    "houshold[['change_spouse', 'spouse_sum']].describe()"
   ]
  },
  {
   "cell_type": "markdown",
   "metadata": {},
   "source": [
    "# Subset df for the analysis \n",
    "\n",
    "Dataframe containing only the variables used in the analysis. \n",
    "The first subset is the default dataset without any grouping dummies, but all variables as standard control variables.\n",
    "Each grouping-setup will have its own subset.\n",
    "\n",
    "## Outcome: \n",
    "select row for each HH with lag_time (lag_lead) of interest\n",
    "- **tf_earn**: model as absolute value or as percentage change?\n",
    "\n",
    "## Covariates:\n",
    "- **dummy variables**: spouse, change_spouse, reb_month, srefmon, famsize, change_famsize \n",
    "- **continous variables**: tot_rebate, see variables used for heterogeneity estimation\n",
    "> - per robustness checks included/excluded\n",
    ">> How are the papers handling this?\n",
    "\n",
    "\n",
    "\n",
    "\n",
    "#### HH specific Intercept - mu_i\n",
    "that captures differences in the average level of labor income across households\n",
    "\n",
    "#### HH types (groups) for Heterogeneity \n",
    "- non-labor earnings (= total earnings - labor earnings) as measure for liquidity?\n",
    "> - multiple ways to calculate and group this variable (amount; ratio of labor/non-labor)\n",
    "- changes in non_labor earnigns? are assets sold?\n",
    "- age (tage)\n",
    "- earn_male larger/smaller earn_female\n",
    "> - also include lags of this? e.g. income 6 months before\n",
    "\n",
    "# ToDo:\n",
    "- get change variable for famsize\n",
    "- (*change lag_time to leads_lags*)\n",
    "- use longer timeframe than 8 months? -> expand total_month calculation"
   ]
  },
  {
   "cell_type": "code",
   "execution_count": 331,
   "metadata": {},
   "outputs": [
    {
     "name": "stdout",
     "output_type": "stream",
     "text": [
      "created subset for lag  -1 with dimensions  (4855, 9) .\n",
      "created subset for lag  0 with dimensions  (9246, 9) .\n",
      "created subset for lag  1 with dimensions  (13571, 9) .\n",
      "created subset for lag  2 with dimensions  (16738, 9) .\n",
      "created subset for lag  3 with dimensions  (18368, 9) .\n",
      "created subset for lag  4 with dimensions  (18560, 9) .\n"
     ]
    }
   ],
   "source": [
    "# subset default\n",
    "subset_default = houshold[['lag_time', 'tfearn', 'amt_tot',\n",
    "                           'spouse', 'change_spouse', 'srefmon', 'reb_month', 'famsize', 'tage']]\n",
    "subset_default.columns\n",
    "\n",
    "# subset for each lag/lead of interest leads:lag_time<0, lags:lag_time>0\n",
    "timeframe_analysis = [-1,0,1,2,3,4]\n",
    "\n",
    "for t in timeframe_analysis:\n",
    "    subset_t = subset_default[subset_default['lag_time']==t]\n",
    "    print('created subset for lag ', t, 'with dimensions ', subset_t.shape, '.')\n",
    "    "
   ]
  },
  {
   "cell_type": "markdown",
   "metadata": {},
   "source": [
    "# Open Questions:\n",
    "\n",
    "- how is **mu_i** defined? a dummy for each household or a average spending computed manually? (over the whole timeframe or only before the reception of the rebate?)\n",
    "- Parker defines **ESP** as the average rebate for this type of houshold -> why not take the actual rebate amount?\n",
    "- think about the **inidividual** dataset and how to use it -> look at paper\n",
    "- when I estimate the equation with on equation for each lag do I need to include a total_month variable instead of the rebate time variable in tau?\n",
    "- how should I account for missing lags/asymetric **lag-availability**? Should I only include HHs with all lags of interest available or is it fine to have different HH combinations depending on the lag?\n",
    "> make hist of the min_month variable and see which timeframe is the most frequent with e.g. lag_time -3 to 3\n",
    "\n",
    "- **month relative to interview month**: srefmonth-reb_month? see Stata Code\n",
    "- How to include variables changing during the time frame?\n",
    "- what variables from full dataset could be interesting\n",
    "> - amount variables for each type of work e.g.  TMLMSUM (Amount of income from moonlighting or extra jobs in this month)\n",
    "> - TOTHPROP or EAST4A Rental property owned -> search assets/property\n"
   ]
  },
  {
   "cell_type": "code",
   "execution_count": 243,
   "metadata": {},
   "outputs": [
    {
     "data": {
      "text/plain": [
       "Index(['ssuid', 'swave', 'srefmon', 'month', 'year', 'ehrefper', 'whfnwgt',\n",
       "       'tfearn', 'tftotinc', 'epppnum', 'tage', 'tpearn', 'tptotinc', 'rf_new',\n",
       "       'famsize', 'totearn', 'totinc', 'earn_male', 'earn_female',\n",
       "       'sex_if_single', 'flex', 'moonlit', 'selfemp', 'totwork', 'totcens',\n",
       "       'type', 'reb_spend', 'reb_save', 'reb_debt', 'reb4', 'amt4', 'reb5',\n",
       "       'amt5', 'reb6', 'amt6', 'reb7', 'amt7', 'reb8', 'amt8', 'reb9', 'amt9',\n",
       "       'reb10', 'amt10', 'reb11', 'amt11', 'reb12', 'amt12', 'pp_count',\n",
       "       'reb_month', 'everreb', 'month_total', 'lag_time', 'spouse_sum',\n",
       "       'change_spouse', 'spouse', 'amt_tot'],\n",
       "      dtype='object')"
      ]
     },
     "execution_count": 243,
     "metadata": {},
     "output_type": "execute_result"
    }
   ],
   "source": [
    "houshold.columns\n",
    "#houshold['moonlit'].describe()\n",
    "#houshold['tage'].hist()"
   ]
  },
  {
   "cell_type": "markdown",
   "metadata": {},
   "source": [
    "## individual data not used in main analysis\n",
    "\n",
    "-> maybe incorporate to have additional info?"
   ]
  },
  {
   "cell_type": "code",
   "execution_count": 222,
   "metadata": {},
   "outputs": [],
   "source": [
    "individual = pd.read_stata('/Users/maxweber/Downloads/JOLE share 2/individual.dta', convert_categoricals = False)"
   ]
  },
  {
   "cell_type": "code",
   "execution_count": 26,
   "metadata": {
    "scrolled": true
   },
   "outputs": [
    {
     "data": {
      "text/plain": [
       "(664317, 61)"
      ]
     },
     "execution_count": 26,
     "metadata": {},
     "output_type": "execute_result"
    }
   ],
   "source": [
    "individual.shape"
   ]
  },
  {
   "cell_type": "code",
   "execution_count": 223,
   "metadata": {},
   "outputs": [
    {
     "data": {
      "text/plain": [
       "Index(['ssuid', 'swave', 'srefmon', 'month', 'year', 'ehrefper', 'whfnwgt',\n",
       "       'tfearn', 'tftotinc', 'epppnum', 'tage', 'tpearn', 'tptotinc',\n",
       "       'epdjbthn', 'eawop', 'eabre', 'eptwrk', 'eptresn', 'ehrsall', 'tmlmsum',\n",
       "       'rmesr', 'rmwkwjb', 'rmwksab', 'rmhrswk', 'rwksperm', 'epayhr1',\n",
       "       'epayhr2', 'ebno1', 'ebno2', 'rf_new', 'famsize', 'totearn', 'totinc',\n",
       "       'spouse', 'flex', 'moonlit', 'selfemp', 'totwork', 'totcens', 'type',\n",
       "       'reb_spend', 'reb_save', 'reb_debt', 'reb4', 'amt4', 'reb5', 'amt5',\n",
       "       'reb6', 'amt6', 'reb7', 'amt7', 'reb8', 'amt8', 'reb9', 'amt9', 'reb10',\n",
       "       'amt10', 'reb11', 'amt11', 'reb12', 'amt12'],\n",
       "      dtype='object')"
      ]
     },
     "execution_count": 223,
     "metadata": {},
     "output_type": "execute_result"
    }
   ],
   "source": [
    "individual.columns\n",
    "\n",
    "# table 6 only\n",
    "#tpearn = personal earnings\n",
    "#eabre = original SIPP variable regarding work absences\n",
    "#rmesr = original SIPP variable regarding employment status"
   ]
  },
  {
   "cell_type": "code",
   "execution_count": 254,
   "metadata": {},
   "outputs": [
    {
     "data": {
      "text/plain": [
       "array([ 1.,  3.,  2., nan], dtype=float32)"
      ]
     },
     "execution_count": 254,
     "metadata": {},
     "output_type": "execute_result"
    }
   ],
   "source": [
    "individual['type'].unique()"
   ]
  },
  {
   "cell_type": "markdown",
   "metadata": {},
   "source": [
    "# Original Data from Census Bureau"
   ]
  },
  {
   "cell_type": "code",
   "execution_count": 17,
   "metadata": {},
   "outputs": [
    {
     "data": {
      "text/plain": [
       "(105663, 1)"
      ]
     },
     "execution_count": 17,
     "metadata": {},
     "output_type": "execute_result"
    },
    {
     "data": {
      "text/plain": [
       "(105663, 1)"
      ]
     },
     "execution_count": 17,
     "metadata": {},
     "output_type": "execute_result"
    }
   ],
   "source": [
    "import pandas as pd    \n",
    "wave1_raw = pd.read_csv('/Users/maxweber/Downloads/p08putm1.dat', header = None)\n",
    "\n",
    "wave1_raw.shape"
   ]
  },
  {
   "cell_type": "code",
   "execution_count": 38,
   "metadata": {},
   "outputs": [
    {
     "data": {
      "text/plain": [
       "'00001019128000276200801212011201004004001011010110111302003242762501291010299999999-00101440000100101101-10-10020-10-0010-0010-10-10020-10-0010-0010-10020-10-0010-0010-1001-10-001020070-00102007019990-1-1-1-1-1-1-1-1-10-10010020000120010020-10-10-0010-0010-0010-0010-1-1-10-10-1-1-10-1001020-1000000-10-10120'"
      ]
     },
     "execution_count": 38,
     "metadata": {},
     "output_type": "execute_result"
    }
   ],
   "source": [
    "wave1_raw[0][0]"
   ]
  },
  {
   "cell_type": "code",
   "execution_count": null,
   "metadata": {},
   "outputs": [],
   "source": [
    "import pandas as pd\n",
    "\n",
    "colspecs=[(0,10),(11,17),(17,20),(20,24)]\n",
    "names=['DP','PHONETYPE','MARKET','FOLDER'])\n",
    "\n",
    "data = pd.read_fwf(\"/Users/maxweber/Downloads/p08putm1.dat\", colspecs, names\n",
    "data.head()"
   ]
  },
  {
   "cell_type": "code",
   "execution_count": 3,
   "metadata": {},
   "outputs": [
    {
     "data": {
      "text/plain": [
       "array(['SSUSEQ', 'SSUID', 'SPANEL', ..., 'LGTKEY', 'LGTMON', 'FILLER'],\n",
       "      dtype='<U9')"
      ]
     },
     "execution_count": 3,
     "metadata": {},
     "output_type": "execute_result"
    },
    {
     "data": {
      "text/plain": [
       "array(['SSUSEQ', 'SSUID', 'SPANEL', ..., 'LGTKEY', 'LGTMON', 'FILLER'],\n",
       "      dtype='<U9')"
      ]
     },
     "execution_count": 3,
     "metadata": {},
     "output_type": "execute_result"
    }
   ],
   "source": [
    "import numpy as np\n",
    "input_dict = np.loadtxt('/Users/maxweber/Desktop/JOLE share/input_dict.txt', dtype = str)\n",
    "input_dict[:,0]"
   ]
  },
  {
   "cell_type": "code",
   "execution_count": 4,
   "metadata": {},
   "outputs": [
    {
     "data": {
      "text/plain": [
       "'SSUSEQ'"
      ]
     },
     "execution_count": 4,
     "metadata": {},
     "output_type": "execute_result"
    },
    {
     "data": {
      "text/plain": [
       "'SSUSEQ'"
      ]
     },
     "execution_count": 4,
     "metadata": {},
     "output_type": "execute_result"
    }
   ],
   "source": [
    "type(input_dict[0])\n",
    "input_dict[0][0]"
   ]
  },
  {
   "cell_type": "code",
   "execution_count": null,
   "metadata": {},
   "outputs": [],
   "source": []
  },
  {
   "cell_type": "code",
   "execution_count": null,
   "metadata": {},
   "outputs": [],
   "source": []
  },
  {
   "cell_type": "markdown",
   "metadata": {},
   "source": [
    "# Old/Wrong code snippets"
   ]
  },
  {
   "cell_type": "markdown",
   "metadata": {},
   "source": [
    "### Function for pivoted covariates\n",
    "\n",
    "(from rows to columns)\n"
   ]
  },
  {
   "cell_type": "code",
   "execution_count": 309,
   "metadata": {
    "scrolled": false
   },
   "outputs": [
    {
     "data": {
      "text/html": [
       "<div>\n",
       "<style scoped>\n",
       "    .dataframe tbody tr th:only-of-type {\n",
       "        vertical-align: middle;\n",
       "    }\n",
       "\n",
       "    .dataframe tbody tr th {\n",
       "        vertical-align: top;\n",
       "    }\n",
       "\n",
       "    .dataframe thead th {\n",
       "        text-align: right;\n",
       "    }\n",
       "</style>\n",
       "<table border=\"1\" class=\"dataframe\">\n",
       "  <thead>\n",
       "    <tr style=\"text-align: right;\">\n",
       "      <th></th>\n",
       "      <th>tftotinc_-7.0</th>\n",
       "      <th>tftotinc_-6.0</th>\n",
       "      <th>tftotinc_-5.0</th>\n",
       "      <th>tftotinc_-4.0</th>\n",
       "      <th>tftotinc_-3.0</th>\n",
       "      <th>tftotinc_-2.0</th>\n",
       "      <th>tftotinc_-1.0</th>\n",
       "      <th>tftotinc_0.0</th>\n",
       "      <th>tftotinc_1.0</th>\n",
       "      <th>tftotinc_2.0</th>\n",
       "      <th>tftotinc_3.0</th>\n",
       "      <th>tftotinc_4.0</th>\n",
       "      <th>tftotinc_5.0</th>\n",
       "      <th>tftotinc_6.0</th>\n",
       "      <th>tftotinc_7.0</th>\n",
       "      <th>tftotinc_8.0</th>\n",
       "      <th>tftotinc_9.0</th>\n",
       "      <th>tftotinc_10.0</th>\n",
       "      <th>tftotinc_11.0</th>\n",
       "    </tr>\n",
       "    <tr>\n",
       "      <th>pp</th>\n",
       "      <th></th>\n",
       "      <th></th>\n",
       "      <th></th>\n",
       "      <th></th>\n",
       "      <th></th>\n",
       "      <th></th>\n",
       "      <th></th>\n",
       "      <th></th>\n",
       "      <th></th>\n",
       "      <th></th>\n",
       "      <th></th>\n",
       "      <th></th>\n",
       "      <th></th>\n",
       "      <th></th>\n",
       "      <th></th>\n",
       "      <th></th>\n",
       "      <th></th>\n",
       "      <th></th>\n",
       "      <th></th>\n",
       "    </tr>\n",
       "  </thead>\n",
       "  <tbody>\n",
       "    <tr>\n",
       "      <th>2</th>\n",
       "      <td>NaN</td>\n",
       "      <td>NaN</td>\n",
       "      <td>NaN</td>\n",
       "      <td>NaN</td>\n",
       "      <td>NaN</td>\n",
       "      <td>NaN</td>\n",
       "      <td>NaN</td>\n",
       "      <td>NaN</td>\n",
       "      <td>3489.0</td>\n",
       "      <td>3489.0</td>\n",
       "      <td>3489.0</td>\n",
       "      <td>3489.0</td>\n",
       "      <td>3631.0</td>\n",
       "      <td>3631.0</td>\n",
       "      <td>3631.0</td>\n",
       "      <td>3631.0</td>\n",
       "      <td>NaN</td>\n",
       "      <td>NaN</td>\n",
       "      <td>NaN</td>\n",
       "    </tr>\n",
       "    <tr>\n",
       "      <th>5</th>\n",
       "      <td>NaN</td>\n",
       "      <td>NaN</td>\n",
       "      <td>NaN</td>\n",
       "      <td>NaN</td>\n",
       "      <td>NaN</td>\n",
       "      <td>NaN</td>\n",
       "      <td>NaN</td>\n",
       "      <td>5085.0</td>\n",
       "      <td>5085.0</td>\n",
       "      <td>5085.0</td>\n",
       "      <td>5085.0</td>\n",
       "      <td>6930.0</td>\n",
       "      <td>6930.0</td>\n",
       "      <td>6930.0</td>\n",
       "      <td>6930.0</td>\n",
       "      <td>NaN</td>\n",
       "      <td>NaN</td>\n",
       "      <td>NaN</td>\n",
       "      <td>NaN</td>\n",
       "    </tr>\n",
       "    <tr>\n",
       "      <th>6</th>\n",
       "      <td>NaN</td>\n",
       "      <td>NaN</td>\n",
       "      <td>NaN</td>\n",
       "      <td>NaN</td>\n",
       "      <td>NaN</td>\n",
       "      <td>NaN</td>\n",
       "      <td>NaN</td>\n",
       "      <td>1544.0</td>\n",
       "      <td>1544.0</td>\n",
       "      <td>1544.0</td>\n",
       "      <td>1544.0</td>\n",
       "      <td>2344.0</td>\n",
       "      <td>529.0</td>\n",
       "      <td>2237.0</td>\n",
       "      <td>1884.0</td>\n",
       "      <td>NaN</td>\n",
       "      <td>NaN</td>\n",
       "      <td>NaN</td>\n",
       "      <td>NaN</td>\n",
       "    </tr>\n",
       "    <tr>\n",
       "      <th>8</th>\n",
       "      <td>NaN</td>\n",
       "      <td>NaN</td>\n",
       "      <td>NaN</td>\n",
       "      <td>NaN</td>\n",
       "      <td>NaN</td>\n",
       "      <td>NaN</td>\n",
       "      <td>NaN</td>\n",
       "      <td>NaN</td>\n",
       "      <td>NaN</td>\n",
       "      <td>4607.0</td>\n",
       "      <td>14798.0</td>\n",
       "      <td>11771.0</td>\n",
       "      <td>11991.0</td>\n",
       "      <td>11177.0</td>\n",
       "      <td>11177.0</td>\n",
       "      <td>11177.0</td>\n",
       "      <td>11177.0</td>\n",
       "      <td>NaN</td>\n",
       "      <td>NaN</td>\n",
       "    </tr>\n",
       "    <tr>\n",
       "      <th>9</th>\n",
       "      <td>NaN</td>\n",
       "      <td>NaN</td>\n",
       "      <td>NaN</td>\n",
       "      <td>NaN</td>\n",
       "      <td>NaN</td>\n",
       "      <td>NaN</td>\n",
       "      <td>NaN</td>\n",
       "      <td>NaN</td>\n",
       "      <td>NaN</td>\n",
       "      <td>8833.0</td>\n",
       "      <td>8833.0</td>\n",
       "      <td>8833.0</td>\n",
       "      <td>8833.0</td>\n",
       "      <td>10666.0</td>\n",
       "      <td>10666.0</td>\n",
       "      <td>10666.0</td>\n",
       "      <td>10666.0</td>\n",
       "      <td>NaN</td>\n",
       "      <td>NaN</td>\n",
       "    </tr>\n",
       "    <tr>\n",
       "      <th>...</th>\n",
       "      <td>...</td>\n",
       "      <td>...</td>\n",
       "      <td>...</td>\n",
       "      <td>...</td>\n",
       "      <td>...</td>\n",
       "      <td>...</td>\n",
       "      <td>...</td>\n",
       "      <td>...</td>\n",
       "      <td>...</td>\n",
       "      <td>...</td>\n",
       "      <td>...</td>\n",
       "      <td>...</td>\n",
       "      <td>...</td>\n",
       "      <td>...</td>\n",
       "      <td>...</td>\n",
       "      <td>...</td>\n",
       "      <td>...</td>\n",
       "      <td>...</td>\n",
       "      <td>...</td>\n",
       "    </tr>\n",
       "    <tr>\n",
       "      <th>26561</th>\n",
       "      <td>NaN</td>\n",
       "      <td>NaN</td>\n",
       "      <td>NaN</td>\n",
       "      <td>NaN</td>\n",
       "      <td>NaN</td>\n",
       "      <td>NaN</td>\n",
       "      <td>NaN</td>\n",
       "      <td>12639.0</td>\n",
       "      <td>10695.0</td>\n",
       "      <td>10695.0</td>\n",
       "      <td>9722.0</td>\n",
       "      <td>2365.0</td>\n",
       "      <td>2227.0</td>\n",
       "      <td>2365.0</td>\n",
       "      <td>2365.0</td>\n",
       "      <td>NaN</td>\n",
       "      <td>NaN</td>\n",
       "      <td>NaN</td>\n",
       "      <td>NaN</td>\n",
       "    </tr>\n",
       "    <tr>\n",
       "      <th>26564</th>\n",
       "      <td>NaN</td>\n",
       "      <td>NaN</td>\n",
       "      <td>NaN</td>\n",
       "      <td>NaN</td>\n",
       "      <td>NaN</td>\n",
       "      <td>NaN</td>\n",
       "      <td>NaN</td>\n",
       "      <td>NaN</td>\n",
       "      <td>NaN</td>\n",
       "      <td>11959.0</td>\n",
       "      <td>11959.0</td>\n",
       "      <td>11959.0</td>\n",
       "      <td>11959.0</td>\n",
       "      <td>30206.0</td>\n",
       "      <td>30206.0</td>\n",
       "      <td>30206.0</td>\n",
       "      <td>30206.0</td>\n",
       "      <td>NaN</td>\n",
       "      <td>NaN</td>\n",
       "    </tr>\n",
       "    <tr>\n",
       "      <th>26566</th>\n",
       "      <td>NaN</td>\n",
       "      <td>NaN</td>\n",
       "      <td>NaN</td>\n",
       "      <td>NaN</td>\n",
       "      <td>NaN</td>\n",
       "      <td>NaN</td>\n",
       "      <td>NaN</td>\n",
       "      <td>NaN</td>\n",
       "      <td>NaN</td>\n",
       "      <td>NaN</td>\n",
       "      <td>14426.0</td>\n",
       "      <td>16143.0</td>\n",
       "      <td>14375.0</td>\n",
       "      <td>13895.0</td>\n",
       "      <td>15999.0</td>\n",
       "      <td>15999.0</td>\n",
       "      <td>15383.0</td>\n",
       "      <td>15659.0</td>\n",
       "      <td>NaN</td>\n",
       "    </tr>\n",
       "    <tr>\n",
       "      <th>26567</th>\n",
       "      <td>NaN</td>\n",
       "      <td>NaN</td>\n",
       "      <td>NaN</td>\n",
       "      <td>NaN</td>\n",
       "      <td>NaN</td>\n",
       "      <td>10358.0</td>\n",
       "      <td>8692.0</td>\n",
       "      <td>10302.0</td>\n",
       "      <td>11181.0</td>\n",
       "      <td>3172.0</td>\n",
       "      <td>3172.0</td>\n",
       "      <td>3512.0</td>\n",
       "      <td>3172.0</td>\n",
       "      <td>NaN</td>\n",
       "      <td>NaN</td>\n",
       "      <td>NaN</td>\n",
       "      <td>NaN</td>\n",
       "      <td>NaN</td>\n",
       "      <td>NaN</td>\n",
       "    </tr>\n",
       "    <tr>\n",
       "      <th>26569</th>\n",
       "      <td>NaN</td>\n",
       "      <td>NaN</td>\n",
       "      <td>NaN</td>\n",
       "      <td>NaN</td>\n",
       "      <td>NaN</td>\n",
       "      <td>10104.0</td>\n",
       "      <td>10104.0</td>\n",
       "      <td>10104.0</td>\n",
       "      <td>10104.0</td>\n",
       "      <td>10333.0</td>\n",
       "      <td>10333.0</td>\n",
       "      <td>10333.0</td>\n",
       "      <td>10333.0</td>\n",
       "      <td>NaN</td>\n",
       "      <td>NaN</td>\n",
       "      <td>NaN</td>\n",
       "      <td>NaN</td>\n",
       "      <td>NaN</td>\n",
       "      <td>NaN</td>\n",
       "    </tr>\n",
       "  </tbody>\n",
       "</table>\n",
       "<p>18788 rows × 19 columns</p>\n",
       "</div>"
      ],
      "text/plain": [
       "       tftotinc_-7.0  tftotinc_-6.0  tftotinc_-5.0  tftotinc_-4.0  \\\n",
       "pp                                                                  \n",
       "2                NaN            NaN            NaN            NaN   \n",
       "5                NaN            NaN            NaN            NaN   \n",
       "6                NaN            NaN            NaN            NaN   \n",
       "8                NaN            NaN            NaN            NaN   \n",
       "9                NaN            NaN            NaN            NaN   \n",
       "...              ...            ...            ...            ...   \n",
       "26561            NaN            NaN            NaN            NaN   \n",
       "26564            NaN            NaN            NaN            NaN   \n",
       "26566            NaN            NaN            NaN            NaN   \n",
       "26567            NaN            NaN            NaN            NaN   \n",
       "26569            NaN            NaN            NaN            NaN   \n",
       "\n",
       "       tftotinc_-3.0  tftotinc_-2.0  tftotinc_-1.0  tftotinc_0.0  \\\n",
       "pp                                                                 \n",
       "2                NaN            NaN            NaN           NaN   \n",
       "5                NaN            NaN            NaN        5085.0   \n",
       "6                NaN            NaN            NaN        1544.0   \n",
       "8                NaN            NaN            NaN           NaN   \n",
       "9                NaN            NaN            NaN           NaN   \n",
       "...              ...            ...            ...           ...   \n",
       "26561            NaN            NaN            NaN       12639.0   \n",
       "26564            NaN            NaN            NaN           NaN   \n",
       "26566            NaN            NaN            NaN           NaN   \n",
       "26567            NaN        10358.0         8692.0       10302.0   \n",
       "26569            NaN        10104.0        10104.0       10104.0   \n",
       "\n",
       "       tftotinc_1.0  tftotinc_2.0  tftotinc_3.0  tftotinc_4.0  tftotinc_5.0  \\\n",
       "pp                                                                            \n",
       "2            3489.0        3489.0        3489.0        3489.0        3631.0   \n",
       "5            5085.0        5085.0        5085.0        6930.0        6930.0   \n",
       "6            1544.0        1544.0        1544.0        2344.0         529.0   \n",
       "8               NaN        4607.0       14798.0       11771.0       11991.0   \n",
       "9               NaN        8833.0        8833.0        8833.0        8833.0   \n",
       "...             ...           ...           ...           ...           ...   \n",
       "26561       10695.0       10695.0        9722.0        2365.0        2227.0   \n",
       "26564           NaN       11959.0       11959.0       11959.0       11959.0   \n",
       "26566           NaN           NaN       14426.0       16143.0       14375.0   \n",
       "26567       11181.0        3172.0        3172.0        3512.0        3172.0   \n",
       "26569       10104.0       10333.0       10333.0       10333.0       10333.0   \n",
       "\n",
       "       tftotinc_6.0  tftotinc_7.0  tftotinc_8.0  tftotinc_9.0  tftotinc_10.0  \\\n",
       "pp                                                                             \n",
       "2            3631.0        3631.0        3631.0           NaN            NaN   \n",
       "5            6930.0        6930.0           NaN           NaN            NaN   \n",
       "6            2237.0        1884.0           NaN           NaN            NaN   \n",
       "8           11177.0       11177.0       11177.0       11177.0            NaN   \n",
       "9           10666.0       10666.0       10666.0       10666.0            NaN   \n",
       "...             ...           ...           ...           ...            ...   \n",
       "26561        2365.0        2365.0           NaN           NaN            NaN   \n",
       "26564       30206.0       30206.0       30206.0       30206.0            NaN   \n",
       "26566       13895.0       15999.0       15999.0       15383.0        15659.0   \n",
       "26567           NaN           NaN           NaN           NaN            NaN   \n",
       "26569           NaN           NaN           NaN           NaN            NaN   \n",
       "\n",
       "       tftotinc_11.0  \n",
       "pp                    \n",
       "2                NaN  \n",
       "5                NaN  \n",
       "6                NaN  \n",
       "8                NaN  \n",
       "9                NaN  \n",
       "...              ...  \n",
       "26561            NaN  \n",
       "26564            NaN  \n",
       "26566            NaN  \n",
       "26567            NaN  \n",
       "26569            NaN  \n",
       "\n",
       "[18788 rows x 19 columns]"
      ]
     },
     "execution_count": 309,
     "metadata": {},
     "output_type": "execute_result"
    }
   ],
   "source": [
    "# write function that returns a df with the row values as columns for each year.\n",
    "houshold2 = houshold[houshold['lag_time'].notnull()]\n",
    "# drop NaN in lag_time column?\n",
    "def get_pivoted_feature(df, col_name):\n",
    "    rslt_df = df.pivot(columns = 'lag_time', values = col_name)\n",
    "    clm_lst = []\n",
    "    for i in range(len(rslt_df.columns)):\n",
    "        clm_lst.append(col_name +  '_' + str(rslt_df.columns[i]))\n",
    "    rslt_df.columns = clm_lst\n",
    "    return rslt_df\n",
    "\n",
    "get_pivoted_feature(houshold2, 'tftotinc') #.describe()"
   ]
  },
  {
   "cell_type": "markdown",
   "metadata": {},
   "source": [
    "### dataframe with pivoted features / cross sectional layout"
   ]
  },
  {
   "cell_type": "code",
   "execution_count": 311,
   "metadata": {},
   "outputs": [
    {
     "data": {
      "text/plain": [
       "(22998, 44)"
      ]
     },
     "execution_count": 311,
     "metadata": {},
     "output_type": "execute_result"
    }
   ],
   "source": [
    "from functools import reduce\n",
    "output = get_pivoted_feature(houshold[houshold['lag_time'].notnull()], 'tfearn')\n",
    "lagged_reb = get_pivoted_feature(houshold[houshold['lag_time'].notnull()], 'amt_tot')\n",
    "control_dummies = houshold[['spouse', 'change_spouse', 'srefmon', 'reb_month', 'famsize']].groupby('pp').first()\n",
    "cont_variables = houshold[['tage']].groupby('pp').first()\n",
    "\n",
    "variables = [output, lagged_reb, control_dummies, cont_variables]\n",
    "df_default = reduce(lambda  left,right: \\\n",
    "                    pd.merge(left,right, left_index = True, right_index = True, how='outer'), variables)\n",
    "df_default.shape"
   ]
  }
 ],
 "metadata": {
  "interpreter": {
   "hash": "854dd31d8a762741532201a73c102ff97df2aa6d3df808c117025003f269d370"
  },
  "kernelspec": {
   "display_name": "Python 3.8.5 ('base')",
   "language": "python",
   "name": "python3"
  },
  "language_info": {
   "codemirror_mode": {
    "name": "ipython",
    "version": 3
   },
   "file_extension": ".py",
   "mimetype": "text/x-python",
   "name": "python",
   "nbconvert_exporter": "python",
   "pygments_lexer": "ipython3",
   "version": "3.8.5"
  }
 },
 "nbformat": 4,
 "nbformat_minor": 4
}
