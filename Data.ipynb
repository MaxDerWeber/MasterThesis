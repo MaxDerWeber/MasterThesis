{
 "cells": [
  {
   "cell_type": "markdown",
   "metadata": {},
   "source": [
    "# Data Import and Cleaning \n",
    "\n",
    "#### Dataset from here:\n",
    "#### Column definition from here: https://www2.census.gov/programs-surveys/sipp/data/datasets/2008/l08puw1.sas"
   ]
  },
  {
   "cell_type": "code",
   "execution_count": 5,
   "metadata": {},
   "outputs": [],
   "source": [
    "import numpy as np\n",
    "import pandas as pd"
   ]
  },
  {
   "cell_type": "code",
   "execution_count": 14,
   "metadata": {},
   "outputs": [],
   "source": [
    "# sas input statement needs to be cleaned by hand: remove all whitespaces and $-signs e.g. replace ' -' with '-'\n",
    "# columns that should be kept, need to be defined by hand as well\n",
    "def import_sipp_data(sas_input_statement, dat_file, columns_keep):\n",
    "    input_dict = np.loadtxt(sas_input_statement, dtype = str)\n",
    "    column_lst = input_dict[:, 0].tolist()\n",
    "    \n",
    "    colspecs = []\n",
    "    for string in input_dict[:, 1]:\n",
    "        colspecs.append(tuple(map(int, string.split('-'))))\n",
    "    \n",
    "    df_raw = pd.read_fwf(dat_file, names=column_lst, colspecs=colspecs)\n",
    "\n",
    "    df = df_raw[columns_keep]\n",
    "    del df_raw\n",
    "    return df"
   ]
  },
  {
   "cell_type": "code",
   "execution_count": 22,
   "metadata": {},
   "outputs": [
    {
     "name": "stdout",
     "output_type": "stream",
     "text": [
      "length core columns:  86\n",
      "length topical columns:  30\n"
     ]
    }
   ],
   "source": [
    "# columns core dataset\n",
    "clmn_join = ['SSUID', 'SPANEL', 'SWAVE', 'TFIPSST', 'EOUTCOME', 'SHHADID', 'RFID', 'RFID2', 'EENTAID','EPPPNUM', 'EPOPSTAT', 'EPPINTVW', 'ESEX', \n",
    "            'ERACE', 'EORIGIN', 'WPFINWGT', 'ERRP', 'EMS', 'EPNMOM', 'EPNDAD', 'EPNGUARD', 'EPNSPOUS', 'RDESGPNT', 'TAGE', 'EEDUCATE']\n",
    "\n",
    "clmn_general = ['SREFMON', 'EHREFPER', 'RHCALMN', 'RHCALYR', 'TMOVRFLG', 'EHHNUMPP', 'EFSPOUSE', 'RFNKIDS', 'EBORNUS', 'ECITIZEN', 'RENROLL']\n",
    "\n",
    "# make hist for all income categories and combine the small ones into a new 'other' or substract all interesting income streams from total and take the residual.\n",
    "clmn_income = ['TFEARN', 'TFTOTINC', 'TPEARN', 'TPTOTINC', 'THTRNINC', 'THOTHINC', 'ETENURE', 'THPNDIST', 'THSOCSEC', 'THVETS', 'THLUMPSM', 'THAFDC', \n",
    "                'EAST1C', 'THPRPINC', 'TINTINC', 'TDIVINC', 'EAST3B', 'EAST3C', 'EAST3D', 'EAST3E', 'EAST4A' ]\n",
    "# moonlit\n",
    "clmn_labor = ['EPAYHR1', 'EPAYHR2', 'TPYRATE1', 'TPYRATE2', 'EJBHRS1', 'EJBHRS2', 'EUNION1', 'EUNION2', 'TMLMSUM', 'EDISABL', 'EDISPREV', \n",
    "                'EAWOP', 'EABRE', 'ERSNOWRK', 'EPTRESN', 'EBUSCNTR', 'EJOBCNTR', 'RMWKSAB', 'EPDJBTHN', 'ELKWRK', 'ELAYOFF', 'EHRSALL', 'RMHRSWK', 'EPTWRK', \n",
    "                'RMESR', 'RMWKWJB', 'RWKSPERM', 'EBNO1', 'EBNO2']\n",
    "\n",
    "columns_core = clmn_join + clmn_general + clmn_income + clmn_labor\n",
    "print('length core columns: ', len(columns_core))\n",
    "\n",
    "# columns topical dataset\n",
    "clmn_join\n",
    "\n",
    "clmn_rebate = ['EREBATE', 'ERBAMTH', 'ERBATAMT', 'ERBATTYP', 'EREBATOC']\n",
    "\n",
    "columns_topical = clmn_join + clmn_rebate\n",
    "print('length topical columns: ', len(columns_topical))"
   ]
  },
  {
   "cell_type": "markdown",
   "metadata": {},
   "source": [
    "### Import SIPP data"
   ]
  },
  {
   "cell_type": "code",
   "execution_count": 18,
   "metadata": {},
   "outputs": [
    {
     "name": "stdout",
     "output_type": "stream",
     "text": [
      "w1 core imported\n",
      "w1 core exported to csv\n",
      "w2 core imported\n",
      "w2 core exported to csv\n"
     ]
    }
   ],
   "source": [
    "w1_core = import_sipp_data('input_core.txt', '/Users/maxweber/Desktop/DataMasterThesis/l08puw1.dat', columns_core)\n",
    "print('w1 core imported')\n",
    "w1_core.to_csv('/Users/maxweber/Desktop/DataMasterThesis/core_w1.csv') \n",
    "print('w1 core exported to csv')\n",
    "\n",
    "w2_core = import_sipp_data('input_core.txt', '/Users/maxweber/Desktop/DataMasterThesis/l08puw2.dat', columns_core)\n",
    "print('w2 core imported')\n",
    "w2_core.to_csv('/Users/maxweber/Desktop/DataMasterThesis/core_w2.csv') \n",
    "print('w2 core exported to csv')"
   ]
  },
  {
   "cell_type": "code",
   "execution_count": 16,
   "metadata": {},
   "outputs": [
    {
     "name": "stdout",
     "output_type": "stream",
     "text": [
      "w1 topical imported\n",
      "w1 topical exported to csv\n",
      "w2 topical imported\n",
      "w2 topical exported to csv\n"
     ]
    }
   ],
   "source": [
    "w1_topical = import_sipp_data('input_topical.txt', '/Users/maxweber/Desktop/DataMasterThesis/p08putm1.dat', columns_topical)\n",
    "print('w1 topical imported')\n",
    "w1_topical.to_csv('/Users/maxweber/Desktop/DataMasterThesis/topical_w1.csv') \n",
    "print('w1 topical exported to csv')\n",
    "\n",
    "w2_topical = import_sipp_data('input_topical.txt', '/Users/maxweber/Desktop/DataMasterThesis/p08putm2.dat', columns_topical)\n",
    "print('w2 topical imported')\n",
    "w2_topical.to_csv('/Users/maxweber/Desktop/DataMasterThesis/topical_w2.csv') \n",
    "print('w2 topical exported to csv')"
   ]
  },
  {
   "cell_type": "markdown",
   "metadata": {},
   "source": [
    "# ToDo: \n",
    "\n",
    "- merge core and topical module\n",
    "- Rowbind  wave 1 and wave 2\n",
    "- compare to houshold dataframe and individual dataframe\n",
    "- implement the cleaning steps from the other notebook"
   ]
  },
  {
   "cell_type": "code",
   "execution_count": 24,
   "metadata": {},
   "outputs": [
    {
     "name": "stdout",
     "output_type": "stream",
     "text": [
      "(421911, 86)\n",
      "(105663, 30)\n"
     ]
    },
    {
     "data": {
      "text/plain": [
       "(421911, 91)"
      ]
     },
     "execution_count": 24,
     "metadata": {},
     "output_type": "execute_result"
    }
   ],
   "source": [
    "print(w1_core.shape)\n",
    "print(w1_topical.shape)\n",
    "w1_full = w1_core.merge(w1_topical, how = 'left', on = clmn_join)\n",
    "w1_full.shape"
   ]
  },
  {
   "cell_type": "code",
   "execution_count": 25,
   "metadata": {},
   "outputs": [
    {
     "name": "stdout",
     "output_type": "stream",
     "text": [
      "(392702, 86)\n",
      "(98504, 30)\n"
     ]
    },
    {
     "data": {
      "text/plain": [
       "(392702, 91)"
      ]
     },
     "execution_count": 25,
     "metadata": {},
     "output_type": "execute_result"
    }
   ],
   "source": [
    "print(w2_core.shape)\n",
    "print(w2_topical.shape)\n",
    "w2_full = w2_core.merge(w2_topical, how = 'left', on = clmn_join)\n",
    "w2_full.shape"
   ]
  },
  {
   "cell_type": "code",
   "execution_count": 28,
   "metadata": {},
   "outputs": [
    {
     "name": "stdout",
     "output_type": "stream",
     "text": [
      "(814613, 91)\n"
     ]
    },
    {
     "data": {
      "text/html": [
       "<div>\n",
       "<style scoped>\n",
       "    .dataframe tbody tr th:only-of-type {\n",
       "        vertical-align: middle;\n",
       "    }\n",
       "\n",
       "    .dataframe tbody tr th {\n",
       "        vertical-align: top;\n",
       "    }\n",
       "\n",
       "    .dataframe thead th {\n",
       "        text-align: right;\n",
       "    }\n",
       "</style>\n",
       "<table border=\"1\" class=\"dataframe\">\n",
       "  <thead>\n",
       "    <tr style=\"text-align: right;\">\n",
       "      <th></th>\n",
       "      <th>SSUID</th>\n",
       "      <th>SPANEL</th>\n",
       "      <th>SWAVE</th>\n",
       "      <th>TFIPSST</th>\n",
       "      <th>EOUTCOME</th>\n",
       "      <th>SHHADID</th>\n",
       "      <th>RFID</th>\n",
       "      <th>RFID2</th>\n",
       "      <th>EENTAID</th>\n",
       "      <th>EPPPNUM</th>\n",
       "      <th>...</th>\n",
       "      <th>RMESR</th>\n",
       "      <th>RMWKWJB</th>\n",
       "      <th>RWKSPERM</th>\n",
       "      <th>EBNO1</th>\n",
       "      <th>EBNO2</th>\n",
       "      <th>EREBATE</th>\n",
       "      <th>ERBAMTH</th>\n",
       "      <th>ERBATAMT</th>\n",
       "      <th>ERBATTYP</th>\n",
       "      <th>EREBATOC</th>\n",
       "    </tr>\n",
       "  </thead>\n",
       "  <tbody>\n",
       "    <tr>\n",
       "      <th>0</th>\n",
       "      <td>19128000276</td>\n",
       "      <td>8</td>\n",
       "      <td>1</td>\n",
       "      <td>2</td>\n",
       "      <td>1</td>\n",
       "      <td>11</td>\n",
       "      <td>1</td>\n",
       "      <td>1</td>\n",
       "      <td>11</td>\n",
       "      <td>101</td>\n",
       "      <td>...</td>\n",
       "      <td>8</td>\n",
       "      <td>0</td>\n",
       "      <td>4</td>\n",
       "      <td>1</td>\n",
       "      <td>1</td>\n",
       "      <td>NaN</td>\n",
       "      <td>NaN</td>\n",
       "      <td>NaN</td>\n",
       "      <td>NaN</td>\n",
       "      <td>NaN</td>\n",
       "    </tr>\n",
       "    <tr>\n",
       "      <th>1</th>\n",
       "      <td>19128000276</td>\n",
       "      <td>8</td>\n",
       "      <td>1</td>\n",
       "      <td>2</td>\n",
       "      <td>1</td>\n",
       "      <td>11</td>\n",
       "      <td>2</td>\n",
       "      <td>2</td>\n",
       "      <td>11</td>\n",
       "      <td>101</td>\n",
       "      <td>...</td>\n",
       "      <td>8</td>\n",
       "      <td>0</td>\n",
       "      <td>5</td>\n",
       "      <td>1</td>\n",
       "      <td>1</td>\n",
       "      <td>NaN</td>\n",
       "      <td>NaN</td>\n",
       "      <td>NaN</td>\n",
       "      <td>NaN</td>\n",
       "      <td>NaN</td>\n",
       "    </tr>\n",
       "    <tr>\n",
       "      <th>2</th>\n",
       "      <td>19128000276</td>\n",
       "      <td>8</td>\n",
       "      <td>1</td>\n",
       "      <td>2</td>\n",
       "      <td>1</td>\n",
       "      <td>11</td>\n",
       "      <td>3</td>\n",
       "      <td>3</td>\n",
       "      <td>11</td>\n",
       "      <td>101</td>\n",
       "      <td>...</td>\n",
       "      <td>8</td>\n",
       "      <td>0</td>\n",
       "      <td>4</td>\n",
       "      <td>1</td>\n",
       "      <td>1</td>\n",
       "      <td>NaN</td>\n",
       "      <td>NaN</td>\n",
       "      <td>NaN</td>\n",
       "      <td>NaN</td>\n",
       "      <td>NaN</td>\n",
       "    </tr>\n",
       "    <tr>\n",
       "      <th>3</th>\n",
       "      <td>19128000276</td>\n",
       "      <td>8</td>\n",
       "      <td>1</td>\n",
       "      <td>2</td>\n",
       "      <td>1</td>\n",
       "      <td>11</td>\n",
       "      <td>4</td>\n",
       "      <td>4</td>\n",
       "      <td>11</td>\n",
       "      <td>101</td>\n",
       "      <td>...</td>\n",
       "      <td>7</td>\n",
       "      <td>0</td>\n",
       "      <td>4</td>\n",
       "      <td>1</td>\n",
       "      <td>1</td>\n",
       "      <td>2.0</td>\n",
       "      <td>1.0</td>\n",
       "      <td>0.0</td>\n",
       "      <td>1.0</td>\n",
       "      <td>1.0</td>\n",
       "    </tr>\n",
       "    <tr>\n",
       "      <th>4</th>\n",
       "      <td>19128000276</td>\n",
       "      <td>8</td>\n",
       "      <td>1</td>\n",
       "      <td>2</td>\n",
       "      <td>1</td>\n",
       "      <td>11</td>\n",
       "      <td>1</td>\n",
       "      <td>1</td>\n",
       "      <td>11</td>\n",
       "      <td>102</td>\n",
       "      <td>...</td>\n",
       "      <td>8</td>\n",
       "      <td>0</td>\n",
       "      <td>4</td>\n",
       "      <td>1</td>\n",
       "      <td>1</td>\n",
       "      <td>NaN</td>\n",
       "      <td>NaN</td>\n",
       "      <td>NaN</td>\n",
       "      <td>NaN</td>\n",
       "      <td>NaN</td>\n",
       "    </tr>\n",
       "  </tbody>\n",
       "</table>\n",
       "<p>5 rows × 91 columns</p>\n",
       "</div>"
      ],
      "text/plain": [
       "         SSUID  SPANEL  SWAVE  TFIPSST  EOUTCOME  SHHADID  RFID  RFID2  \\\n",
       "0  19128000276       8      1        2         1       11     1      1   \n",
       "1  19128000276       8      1        2         1       11     2      2   \n",
       "2  19128000276       8      1        2         1       11     3      3   \n",
       "3  19128000276       8      1        2         1       11     4      4   \n",
       "4  19128000276       8      1        2         1       11     1      1   \n",
       "\n",
       "   EENTAID  EPPPNUM  ...  RMESR  RMWKWJB  RWKSPERM  EBNO1  EBNO2  EREBATE  \\\n",
       "0       11      101  ...      8        0         4      1      1      NaN   \n",
       "1       11      101  ...      8        0         5      1      1      NaN   \n",
       "2       11      101  ...      8        0         4      1      1      NaN   \n",
       "3       11      101  ...      7        0         4      1      1      2.0   \n",
       "4       11      102  ...      8        0         4      1      1      NaN   \n",
       "\n",
       "   ERBAMTH  ERBATAMT  ERBATTYP  EREBATOC  \n",
       "0      NaN       NaN       NaN       NaN  \n",
       "1      NaN       NaN       NaN       NaN  \n",
       "2      NaN       NaN       NaN       NaN  \n",
       "3      1.0       0.0       1.0       1.0  \n",
       "4      NaN       NaN       NaN       NaN  \n",
       "\n",
       "[5 rows x 91 columns]"
      ]
     },
     "execution_count": 28,
     "metadata": {},
     "output_type": "execute_result"
    }
   ],
   "source": [
    "df = pd.concat([w1_full, w2_full])\n",
    "print(df.shape)\n",
    "df.head()"
   ]
  }
 ],
 "metadata": {
  "interpreter": {
   "hash": "854dd31d8a762741532201a73c102ff97df2aa6d3df808c117025003f269d370"
  },
  "kernelspec": {
   "display_name": "Python 3",
   "language": "python",
   "name": "python3"
  },
  "language_info": {
   "codemirror_mode": {
    "name": "ipython",
    "version": 3
   },
   "file_extension": ".py",
   "mimetype": "text/x-python",
   "name": "python",
   "nbconvert_exporter": "python",
   "pygments_lexer": "ipython3",
   "version": "3.8.5"
  }
 },
 "nbformat": 4,
 "nbformat_minor": 2
}
