{
 "cells": [
  {
   "cell_type": "markdown",
   "metadata": {},
   "source": [
    "# Data Import and Cleaning \n",
    "\n",
    "#### Datasets from here: \n",
    "- https://www.census.gov/programs-surveys/sipp/data/datasets/2008-panel/wave-1.html\n",
    "- https://www.census.gov/programs-surveys/sipp/data/datasets/2008-panel/wave-2.html\n",
    "#### Column definition from here: \n",
    "- https://www2.census.gov/programs-surveys/sipp/data/datasets/2008/l08puw1.sas\n",
    "- https://www2.census.gov/programs-surveys/sipp/data/datasets/2008/p08putm1.sas"
   ]
  },
  {
   "cell_type": "code",
   "execution_count": 5,
   "metadata": {},
   "outputs": [],
   "source": [
    "import numpy as np\n",
    "import pandas as pd"
   ]
  },
  {
   "cell_type": "code",
   "execution_count": 14,
   "metadata": {},
   "outputs": [],
   "source": [
    "# sas input statement needs to be cleaned by hand: remove all whitespaces and $-signs e.g. replace ' -' with '-'\n",
    "# columns that should be kept, need to be defined by hand as well\n",
    "def import_sipp_data(sas_input_statement, dat_file, columns_keep):\n",
    "    input_dict = np.loadtxt(sas_input_statement, dtype = str)\n",
    "    column_lst = input_dict[:, 0].tolist()\n",
    "    \n",
    "    colspecs = []\n",
    "    for string in input_dict[:, 1]:\n",
    "        colspecs.append(tuple(map(int, string.split('-'))))\n",
    "    \n",
    "    df_raw = pd.read_fwf(dat_file, names=column_lst, colspecs=colspecs)\n",
    "\n",
    "    df = df_raw[columns_keep]\n",
    "    del df_raw\n",
    "    return df"
   ]
  },
  {
   "cell_type": "code",
   "execution_count": 22,
   "metadata": {},
   "outputs": [
    {
     "name": "stdout",
     "output_type": "stream",
     "text": [
      "length core columns:  86\n",
      "length topical columns:  30\n"
     ]
    }
   ],
   "source": [
    "# columns core dataset\n",
    "clmn_join = ['SSUID', 'SPANEL', 'SWAVE', 'TFIPSST', 'EOUTCOME', 'SHHADID', 'RFID', 'RFID2', 'EENTAID','EPPPNUM', 'EPOPSTAT', 'EPPINTVW', 'ESEX', \n",
    "            'ERACE', 'EORIGIN', 'WPFINWGT', 'ERRP', 'EMS', 'EPNMOM', 'EPNDAD', 'EPNGUARD', 'EPNSPOUS', 'RDESGPNT', 'TAGE', 'EEDUCATE']\n",
    "\n",
    "clmn_general = ['SREFMON', 'EHREFPER', 'RHCALMN', 'RHCALYR', 'TMOVRFLG', 'EHHNUMPP', 'EFSPOUSE', 'RFNKIDS', 'EBORNUS', 'ECITIZEN', 'RENROLL']\n",
    "\n",
    "# make hist for all income categories and combine the small ones into a new 'other' or substract all interesting income streams from total and take the residual.\n",
    "clmn_income = ['TFEARN', 'TFTOTINC', 'TPEARN', 'TPTOTINC', 'THTRNINC', 'THOTHINC', 'ETENURE', 'THPNDIST', 'THSOCSEC', 'THVETS', 'THLUMPSM', 'THAFDC', \n",
    "                'EAST1C', 'THPRPINC', 'TINTINC', 'TDIVINC', 'EAST3B', 'EAST3C', 'EAST3D', 'EAST3E', 'EAST4A' ]\n",
    "# moonlit\n",
    "clmn_labor = ['EPAYHR1', 'EPAYHR2', 'TPYRATE1', 'TPYRATE2', 'EJBHRS1', 'EJBHRS2', 'EUNION1', 'EUNION2', 'TMLMSUM', 'EDISABL', 'EDISPREV', \n",
    "                'EAWOP', 'EABRE', 'ERSNOWRK', 'EPTRESN', 'EBUSCNTR', 'EJOBCNTR', 'RMWKSAB', 'EPDJBTHN', 'ELKWRK', 'ELAYOFF', 'EHRSALL', 'RMHRSWK', 'EPTWRK', \n",
    "                'RMESR', 'RMWKWJB', 'RWKSPERM', 'EBNO1', 'EBNO2']\n",
    "\n",
    "columns_core = clmn_join + clmn_general + clmn_income + clmn_labor\n",
    "print('length core columns: ', len(columns_core))\n",
    "\n",
    "# columns topical dataset\n",
    "clmn_join\n",
    "\n",
    "clmn_rebate = ['EREBATE', 'ERBAMTH', 'ERBATAMT', 'ERBATTYP', 'EREBATOC']\n",
    "\n",
    "columns_topical = clmn_join + clmn_rebate\n",
    "print('length topical columns: ', len(columns_topical))"
   ]
  },
  {
   "cell_type": "markdown",
   "metadata": {},
   "source": [
    "### Import SIPP data"
   ]
  },
  {
   "cell_type": "code",
   "execution_count": 18,
   "metadata": {},
   "outputs": [
    {
     "name": "stdout",
     "output_type": "stream",
     "text": [
      "w1 core imported\n",
      "w1 core exported to csv\n",
      "w2 core imported\n",
      "w2 core exported to csv\n"
     ]
    }
   ],
   "source": [
    "w1_core = import_sipp_data('input_core.txt', '/Users/maxweber/Desktop/DataMasterThesis/l08puw1.dat', columns_core)\n",
    "print('w1 core imported')\n",
    "w1_core.to_csv('/Users/maxweber/Desktop/DataMasterThesis/core_w1.csv') \n",
    "print('w1 core exported to csv')\n",
    "\n",
    "w2_core = import_sipp_data('input_core.txt', '/Users/maxweber/Desktop/DataMasterThesis/l08puw2.dat', columns_core)\n",
    "print('w2 core imported')\n",
    "w2_core.to_csv('/Users/maxweber/Desktop/DataMasterThesis/core_w2.csv') \n",
    "print('w2 core exported to csv')"
   ]
  },
  {
   "cell_type": "code",
   "execution_count": 58,
   "metadata": {},
   "outputs": [
    {
     "name": "stdout",
     "output_type": "stream",
     "text": [
      "w1 topical imported\n",
      "w1 topical exported to csv\n",
      "w2 topical imported\n",
      "w2 topical exported to csv\n"
     ]
    }
   ],
   "source": [
    "w1_topical = import_sipp_data('input_topical_w1.txt', '/Users/maxweber/Desktop/DataMasterThesis/p08putm1.dat', columns_topical)\n",
    "print('w1 topical imported')\n",
    "w1_topical.to_csv('/Users/maxweber/Desktop/DataMasterThesis/topical_w1.csv') \n",
    "print('w1 topical exported to csv')\n",
    "\n",
    "w2_topical = import_sipp_data('input_topical_w2.txt', '/Users/maxweber/Desktop/DataMasterThesis/p08putm2.dat', columns_topical)\n",
    "print('w2 topical imported')\n",
    "w2_topical.to_csv('/Users/maxweber/Desktop/DataMasterThesis/topical_w2.csv') \n",
    "print('w2 topical exported to csv')"
   ]
  },
  {
   "cell_type": "markdown",
   "metadata": {},
   "source": [
    "# ToDo: \n",
    "\n",
    "- compare to houshold dataframe and individual dataframe\n",
    "- implement the cleaning steps from the other notebook"
   ]
  },
  {
   "cell_type": "code",
   "execution_count": 59,
   "metadata": {},
   "outputs": [
    {
     "name": "stdout",
     "output_type": "stream",
     "text": [
      "(421911, 86)\n",
      "(105663, 30)\n"
     ]
    },
    {
     "data": {
      "text/plain": [
       "(421911, 91)"
      ]
     },
     "execution_count": 59,
     "metadata": {},
     "output_type": "execute_result"
    }
   ],
   "source": [
    "print(w1_core.shape)\n",
    "print(w1_topical.shape)\n",
    "w1_full = w1_core.merge(w1_topical, how = 'left', on = clmn_join)\n",
    "w1_full.shape"
   ]
  },
  {
   "cell_type": "code",
   "execution_count": 61,
   "metadata": {},
   "outputs": [
    {
     "name": "stdout",
     "output_type": "stream",
     "text": [
      "(392702, 86)\n",
      "(98504, 30)\n"
     ]
    },
    {
     "data": {
      "text/plain": [
       "(392702, 91)"
      ]
     },
     "execution_count": 61,
     "metadata": {},
     "output_type": "execute_result"
    }
   ],
   "source": [
    "print(w2_core.shape)\n",
    "print(w2_topical.shape)\n",
    "w2_full = w2_core.merge(w2_topical, how = 'left', on = clmn_join)\n",
    "w2_full.shape"
   ]
  },
  {
   "cell_type": "code",
   "execution_count": 69,
   "metadata": {},
   "outputs": [
    {
     "name": "stdout",
     "output_type": "stream",
     "text": [
      "(814613, 91)\n"
     ]
    }
   ],
   "source": [
    "df = pd.concat([w1_full, w2_full])\n",
    "df.to_csv('/Users/maxweber/Desktop/DataMasterThesis/full_sipp.csv') \n",
    "print(df.shape)\n",
    "df.head()\n",
    "del [w1_core, w2_core, w1_topical, w2_topical]"
   ]
  },
  {
   "cell_type": "code",
   "execution_count": 68,
   "metadata": {},
   "outputs": [
    {
     "data": {
      "text/html": [
       "<div>\n",
       "<style scoped>\n",
       "    .dataframe tbody tr th:only-of-type {\n",
       "        vertical-align: middle;\n",
       "    }\n",
       "\n",
       "    .dataframe tbody tr th {\n",
       "        vertical-align: top;\n",
       "    }\n",
       "\n",
       "    .dataframe thead th {\n",
       "        text-align: right;\n",
       "    }\n",
       "</style>\n",
       "<table border=\"1\" class=\"dataframe\">\n",
       "  <thead>\n",
       "    <tr style=\"text-align: right;\">\n",
       "      <th></th>\n",
       "      <th>EREBATE</th>\n",
       "      <th>ERBAMTH</th>\n",
       "      <th>ERBATAMT</th>\n",
       "      <th>ERBATTYP</th>\n",
       "      <th>EREBATOC</th>\n",
       "    </tr>\n",
       "  </thead>\n",
       "  <tbody>\n",
       "    <tr>\n",
       "      <th>count</th>\n",
       "      <td>204167.000000</td>\n",
       "      <td>204167.000000</td>\n",
       "      <td>204167.000000</td>\n",
       "      <td>204167.000000</td>\n",
       "      <td>204167.000000</td>\n",
       "    </tr>\n",
       "    <tr>\n",
       "      <th>mean</th>\n",
       "      <td>1.250535</td>\n",
       "      <td>3.459844</td>\n",
       "      <td>248.793943</td>\n",
       "      <td>1.231232</td>\n",
       "      <td>1.621472</td>\n",
       "    </tr>\n",
       "    <tr>\n",
       "      <th>std</th>\n",
       "      <td>0.433322</td>\n",
       "      <td>2.578473</td>\n",
       "      <td>287.948038</td>\n",
       "      <td>0.421622</td>\n",
       "      <td>0.878008</td>\n",
       "    </tr>\n",
       "    <tr>\n",
       "      <th>min</th>\n",
       "      <td>1.000000</td>\n",
       "      <td>0.000000</td>\n",
       "      <td>0.000000</td>\n",
       "      <td>1.000000</td>\n",
       "      <td>1.000000</td>\n",
       "    </tr>\n",
       "    <tr>\n",
       "      <th>25%</th>\n",
       "      <td>1.000000</td>\n",
       "      <td>1.000000</td>\n",
       "      <td>0.000000</td>\n",
       "      <td>1.000000</td>\n",
       "      <td>1.000000</td>\n",
       "    </tr>\n",
       "    <tr>\n",
       "      <th>50%</th>\n",
       "      <td>1.000000</td>\n",
       "      <td>4.000000</td>\n",
       "      <td>50.000000</td>\n",
       "      <td>1.000000</td>\n",
       "      <td>1.000000</td>\n",
       "    </tr>\n",
       "    <tr>\n",
       "      <th>75%</th>\n",
       "      <td>2.000000</td>\n",
       "      <td>6.000000</td>\n",
       "      <td>600.000000</td>\n",
       "      <td>1.000000</td>\n",
       "      <td>3.000000</td>\n",
       "    </tr>\n",
       "    <tr>\n",
       "      <th>max</th>\n",
       "      <td>2.000000</td>\n",
       "      <td>9.000000</td>\n",
       "      <td>998.000000</td>\n",
       "      <td>2.000000</td>\n",
       "      <td>3.000000</td>\n",
       "    </tr>\n",
       "  </tbody>\n",
       "</table>\n",
       "</div>"
      ],
      "text/plain": [
       "             EREBATE        ERBAMTH       ERBATAMT       ERBATTYP  \\\n",
       "count  204167.000000  204167.000000  204167.000000  204167.000000   \n",
       "mean        1.250535       3.459844     248.793943       1.231232   \n",
       "std         0.433322       2.578473     287.948038       0.421622   \n",
       "min         1.000000       0.000000       0.000000       1.000000   \n",
       "25%         1.000000       1.000000       0.000000       1.000000   \n",
       "50%         1.000000       4.000000      50.000000       1.000000   \n",
       "75%         2.000000       6.000000     600.000000       1.000000   \n",
       "max         2.000000       9.000000     998.000000       2.000000   \n",
       "\n",
       "            EREBATOC  \n",
       "count  204167.000000  \n",
       "mean        1.621472  \n",
       "std         0.878008  \n",
       "min         1.000000  \n",
       "25%         1.000000  \n",
       "50%         1.000000  \n",
       "75%         3.000000  \n",
       "max         3.000000  "
      ]
     },
     "execution_count": 68,
     "metadata": {},
     "output_type": "execute_result"
    }
   ],
   "source": [
    "df[['EREBATE', 'ERBAMTH', 'ERBATAMT', 'ERBATTYP', 'EREBATOC']].describe()\n"
   ]
  }
 ],
 "metadata": {
  "interpreter": {
   "hash": "854dd31d8a762741532201a73c102ff97df2aa6d3df808c117025003f269d370"
  },
  "kernelspec": {
   "display_name": "Python 3",
   "language": "python",
   "name": "python3"
  },
  "language_info": {
   "codemirror_mode": {
    "name": "ipython",
    "version": 3
   },
   "file_extension": ".py",
   "mimetype": "text/x-python",
   "name": "python",
   "nbconvert_exporter": "python",
   "pygments_lexer": "ipython3",
   "version": "3.8.5"
  }
 },
 "nbformat": 4,
 "nbformat_minor": 2
}
