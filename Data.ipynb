{
 "cells": [
  {
   "cell_type": "markdown",
   "metadata": {},
   "source": [
    "# Data Import and Cleaning \n",
    "\n",
    "#### Dataset from here:\n",
    "#### Column definition from here: https://www2.census.gov/programs-surveys/sipp/data/datasets/2008/l08puw1.sas"
   ]
  },
  {
   "cell_type": "code",
   "execution_count": 5,
   "metadata": {},
   "outputs": [],
   "source": [
    "import numpy as np\n",
    "import pandas as pd"
   ]
  },
  {
   "cell_type": "markdown",
   "metadata": {},
   "source": [
    "# ToDo: \n",
    "\n",
    "- merge core and topical module\n",
    "- Rowbind  wave 1 and wave 2\n",
    "- compare to houshold dataframe and individual dataframe\n",
    "- implement the cleaning steps from the other notebook"
   ]
  },
  {
   "cell_type": "code",
   "execution_count": 14,
   "metadata": {},
   "outputs": [],
   "source": [
    "# sas input statement needs to be cleaned by hand: remove all whitespaces and $-signs e.g. replace ' -' with '-'\n",
    "# columns that should be kept, need to be defined by hand as well\n",
    "def import_sipp_data(sas_input_statement, dat_file, columns_keep):\n",
    "    input_dict = np.loadtxt(sas_input_statement, dtype = str)\n",
    "    column_lst = input_dict[:, 0].tolist()\n",
    "    \n",
    "    colspecs = []\n",
    "    for string in input_dict[:, 1]:\n",
    "        colspecs.append(tuple(map(int, string.split('-'))))\n",
    "    \n",
    "    df_raw = pd.read_fwf(dat_file, names=column_lst, colspecs=colspecs)\n",
    "\n",
    "    df = df_raw[columns_keep]\n",
    "    del df_raw\n",
    "    return df"
   ]
  },
  {
   "cell_type": "code",
   "execution_count": 9,
   "metadata": {},
   "outputs": [
    {
     "name": "stdout",
     "output_type": "stream",
     "text": [
      "length core columns:  86\n",
      "length topical columns:  30\n"
     ]
    }
   ],
   "source": [
    "# columns core dataset\n",
    "cols_join = ['SSUID', 'SPANEL', 'SWAVE', 'TFIPSST', 'EOUTCOME', 'SHHADID', 'RFID', 'RFID2', 'EENTAID','EPPPNUM', 'EPOPSTAT', 'EPPINTVW', 'ESEX', \n",
    "            'ERACE', 'EORIGIN', 'WPFINWGT', 'ERRP', 'EMS', 'EPNMOM', 'EPNDAD', 'EPNGUARD', 'EPNSPOUS', 'RDESGPNT', 'TAGE', 'EEDUCATE']\n",
    "\n",
    "cols_general = ['SREFMON', 'EHREFPER', 'RHCALMN', 'RHCALYR', 'TMOVRFLG', 'EHHNUMPP', 'EFSPOUSE', 'RFNKIDS', 'EBORNUS', 'ECITIZEN', 'RENROLL']\n",
    "\n",
    "# make hist for all income categories and combine the small ones into a new 'other' or substract all interesting income streams from total and take the residual.\n",
    "cols_income = ['TFEARN', 'TFTOTINC', 'TPEARN', 'TPTOTINC', 'THTRNINC', 'THOTHINC', 'ETENURE', 'THPNDIST', 'THSOCSEC', 'THVETS', 'THLUMPSM', 'THAFDC', \n",
    "                'EAST1C', 'THPRPINC', 'TINTINC', 'TDIVINC', 'EAST3B', 'EAST3C', 'EAST3D', 'EAST3E', 'EAST4A' ]\n",
    "# moonlit\n",
    "columns_labor = ['EPAYHR1', 'EPAYHR2', 'TPYRATE1', 'TPYRATE2', 'EJBHRS1', 'EJBHRS2', 'EUNION1', 'EUNION2', 'TMLMSUM', 'EDISABL', 'EDISPREV', \n",
    "                'EAWOP', 'EABRE', 'ERSNOWRK', 'EPTRESN', 'EBUSCNTR', 'EJOBCNTR', 'RMWKSAB', 'EPDJBTHN', 'ELKWRK', 'ELAYOFF', 'EHRSALL', 'RMHRSWK', 'EPTWRK', \n",
    "                'RMESR', 'RMWKWJB', 'RWKSPERM', 'EBNO1', 'EBNO2']\n",
    "\n",
    "columns_core = cols_join + cols_general + cols_income + columns_labor\n",
    "print('length core columns: ', len(columns_core))\n",
    "\n",
    "# columns topical dataset\n",
    "cols_join\n",
    "\n",
    "cols_rebate = ['EREBATE', 'ERBAMTH', 'ERBATAMT', 'ERBATTYP', 'EREBATOC']\n",
    "\n",
    "columns_topical = cols_join + cols_rebate\n",
    "print('length topical columns: ', len(columns_topical))"
   ]
  },
  {
   "cell_type": "markdown",
   "metadata": {},
   "source": [
    "### Import SIPP data"
   ]
  },
  {
   "cell_type": "code",
   "execution_count": 18,
   "metadata": {},
   "outputs": [
    {
     "name": "stdout",
     "output_type": "stream",
     "text": [
      "w1 core imported\n",
      "w1 core exported to csv\n",
      "w2 core imported\n",
      "w2 core exported to csv\n"
     ]
    }
   ],
   "source": [
    "w1_core = import_sipp_data('input_core.txt', '/Users/maxweber/Desktop/DataMasterThesis/l08puw1.dat', columns_core)\n",
    "print('w1 core imported')\n",
    "w1_core.to_csv('/Users/maxweber/Desktop/DataMasterThesis/core_w1.csv') \n",
    "print('w1 core exported to csv')\n",
    "\n",
    "w2_core = import_sipp_data('input_core.txt', '/Users/maxweber/Desktop/DataMasterThesis/l08puw2.dat', columns_core)\n",
    "print('w2 core imported')\n",
    "w2_core.to_csv('/Users/maxweber/Desktop/DataMasterThesis/core_w2.csv') \n",
    "print('w2 core exported to csv')"
   ]
  },
  {
   "cell_type": "code",
   "execution_count": 16,
   "metadata": {},
   "outputs": [
    {
     "name": "stdout",
     "output_type": "stream",
     "text": [
      "w1 topical imported\n",
      "w1 topical exported to csv\n",
      "w2 topical imported\n",
      "w2 topical exported to csv\n"
     ]
    }
   ],
   "source": [
    "w1_topical = import_sipp_data('input_topical.txt', '/Users/maxweber/Desktop/DataMasterThesis/p08putm1.dat', columns_topical)\n",
    "print('w1 topical imported')\n",
    "w1_topical.to_csv('/Users/maxweber/Desktop/DataMasterThesis/topical_w1.csv') \n",
    "print('w1 topical exported to csv')\n",
    "\n",
    "w2_topical = import_sipp_data('input_topical.txt', '/Users/maxweber/Desktop/DataMasterThesis/p08putm2.dat', columns_topical)\n",
    "print('w2 topical imported')\n",
    "w2_topical.to_csv('/Users/maxweber/Desktop/DataMasterThesis/topical_w2.csv') \n",
    "print('w2 topical exported to csv')"
   ]
  }
 ],
 "metadata": {
  "interpreter": {
   "hash": "854dd31d8a762741532201a73c102ff97df2aa6d3df808c117025003f269d370"
  },
  "kernelspec": {
   "display_name": "Python 3",
   "language": "python",
   "name": "python3"
  },
  "language_info": {
   "codemirror_mode": {
    "name": "ipython",
    "version": 3
   },
   "file_extension": ".py",
   "mimetype": "text/x-python",
   "name": "python",
   "nbconvert_exporter": "python",
   "pygments_lexer": "ipython3",
   "version": "3.8.5"
  }
 },
 "nbformat": 4,
 "nbformat_minor": 2
}
