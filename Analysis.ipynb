{
 "cells": [
  {
   "cell_type": "markdown",
   "metadata": {},
   "source": [
    "# Analysis on cleaned dataset from Data.ipynb"
   ]
  },
  {
   "cell_type": "code",
   "execution_count": null,
   "metadata": {},
   "outputs": [],
   "source": [
    "#only perform once in the beginning\n",
    "#%pip install linearmodels"
   ]
  },
  {
   "cell_type": "code",
   "execution_count": 2,
   "metadata": {},
   "outputs": [],
   "source": [
    "import pandas as pd\n",
    "import numpy as np\n",
    "\n",
    "# Fixed effects regression:\n",
    "from linearmodels import PanelOLS\n",
    "import statsmodels.api as sm\n"
   ]
  },
  {
   "cell_type": "code",
   "execution_count": null,
   "metadata": {},
   "outputs": [],
   "source": [
    "# import the csv data from Data.ipynb\n",
    "houshold = pd.read_csv('houshold')\n",
    "data = pd.read_csv('data')"
   ]
  },
  {
   "cell_type": "markdown",
   "metadata": {},
   "source": [
    "# Analysis base modification\n",
    "- with & without groupings to make sure the definition is correct\n",
    "- with my dataset and with POWELL dataset\n",
    "- with time and entity effect\n"
   ]
  },
  {
   "cell_type": "code",
   "execution_count": null,
   "metadata": {},
   "outputs": [],
   "source": [
    "# with dummy * amount:\n",
    "exog_vars = houshold[['erebate_-2.0', 'erebate_-1.0', 'erebate_0.0', 'erebate_1.0','erebate_2.0', 'erebate_3.0', 'erebate_4.0', 'erebate_5.0', 'erebate_6.0', \n",
    "                      'erebate_7.0', 'erebate_8.0', 'erebate_9.0', 'erebate_10.0', 'erebate_11.0']].multiply(houshold['ERBATAMT'], axis = 'index')\n",
    "exog_vars['month_total'] = pd.Categorical(houshold['month_total'])\n",
    "exog = sm.add_constant(exog_vars)\n",
    "\n",
    "model = PanelOLS(houshold['TFEARN'], exog, entity_effects = True, time_effects = True, check_rank = True, drop_absorbed=True)\n",
    "\n",
    "model.fit()"
   ]
  },
  {
   "cell_type": "code",
   "execution_count": null,
   "metadata": {},
   "outputs": [],
   "source": [
    "# die obere regression nochmal machen aber rebate rebate0+rebate1 und rebate2+rebate3 gruppieren: \n",
    "# addieren der dummies, die rows bleiben aber so bestehen und werden nicht aggregiert\n",
    "\n",
    "powell_hh = houshold[['ERBATAMT', 'month_total', 'TFEARN']]\n",
    "powell_hh['reb'] = houshold['erebate_-1.0'] + houshold['erebate_0.0']\n",
    "powell_hh['reb_lag'] = houshold['erebate_1.0'] + houshold['erebate_1.0']\n",
    "powell_hh['reb_lag1'] = houshold['erebate_4.0'] + houshold['erebate_3.0']\n",
    "powell_hh['reb_lag2'] = houshold['erebate_5.0'] + houshold['erebate_6.0'] + houshold['erebate_7.0'] + houshold['erebate_8.0']\n",
    "\n",
    "exog_vars = powell_hh[['reb', 'reb_lag']].multiply(powell_hh['ERBATAMT'], axis = 'index') #, 'reb_lag1', 'reb_lag2'\n",
    "\n",
    "exog = sm.add_constant(exog_vars)\n",
    "\n",
    "model = PanelOLS(powell_hh['TFEARN'], exog, entity_effects = True, time_effects = True, check_rank = True, drop_absorbed=True)\n",
    "\n",
    "model.fit()\n",
    "\n",
    "\n",
    "# include interaction terms? \n",
    "# what is the 2SLS approach in Powell? is the first stage Rebate = gamma (interaction terms of HH characteristica)?\n",
    "# read the stata code again (especially concerning the interacgtion term!)\n",
    "# set tfearn = 0 if tfearn < 0.\n",
    "\n",
    "# don't use houshold dataframe that is grouped but use the regular one with pp as index and cluster by hh in the regressions."
   ]
  },
  {
   "cell_type": "code",
   "execution_count": null,
   "metadata": {},
   "outputs": [],
   "source": [
    "# with dummy only:\n",
    "exog_vars = houshold[['erebate_-2.0', 'erebate_-1.0', 'erebate_0.0', 'erebate_1.0','erebate_2.0', 'erebate_3.0', 'erebate_4.0', 'erebate_5.0', 'erebate_6.0', \n",
    "                      'erebate_7.0', 'erebate_8.0', 'erebate_9.0', 'erebate_10.0', 'erebate_11.0']]\n",
    "exog_vars['month_total'] = pd.Categorical(houshold['month_total'])\n",
    "exog = sm.add_constant(exog_vars)\n",
    "\n",
    "model = PanelOLS(houshold['TFEARN'], exog, entity_effects = True, time_effects = True, check_rank = True, drop_absorbed=True)\n",
    "\n",
    "model.fit()\n",
    "\n",
    "\n",
    "# there is a cluster option as in the stata code"
   ]
  },
  {
   "cell_type": "code",
   "execution_count": null,
   "metadata": {},
   "outputs": [],
   "source": [
    "# next step: estimation with grouping:\n",
    "totinc_dict = {\n",
    "    1: range(0,2499),\n",
    "    2: range(2500,5999),\n",
    "    3: range(5000,12499),\n",
    "    4: range(12500,99999)\n",
    "}\n",
    "\n",
    "reb_dummies_lst = ['erebate_-1.0', 'erebate_0.0', 'erebate_1.0','erebate_2.0', 'erebate_3.0', 'erebate_4.0']\n",
    "totinc_dict.keys()"
   ]
  },
  {
   "cell_type": "code",
   "execution_count": null,
   "metadata": {},
   "outputs": [],
   "source": [
    "def get_grouping(df_column, group_dict, reb_dummies_df):\n",
    "    # get flag indicating the group with the dictionary-mapping:\n",
    "    new_col = df_column.apply(lambda x: next((k for k, v in group_dict.items() if x in v), 0))\n",
    "    new_col = new_col.rename(new_col.name + '_flag')\n",
    "    new_cols = pd.get_dummies(new_col) # get dummies from group flag\n",
    "\n",
    "   # create interaction dummies (group-dummy * rebatelag_dummy) iterating over each group_id and concatenating in the end:\n",
    "    df_group_dummies = pd.DataFrame(df_column)\n",
    "    group_lst = group_dict.keys()\n",
    "    for group_id in group_lst:\n",
    "        dummies_group = reb_dummies_df.multiply(new_cols[group_id], axis = 'index')\n",
    "        \n",
    "        new_dummy_names = []\n",
    "        for name in dummies_group.columns:\n",
    "            new_dummy_names.append(name + '-j' + str(group_id))\n",
    "        dummies_group.columns = new_dummy_names\n",
    "        df_group_dummies = df_group_dummies.merge(dummies_group,left_index= True, right_index=True)\n",
    "        #df_group_dummies.replace(np.NaN, 0, inplace = True)\n",
    "    return df_group_dummies\n",
    "\n",
    "\n",
    "get_grouping(houshold['TFTOTINC'], totinc_dict, houshold[reb_dummies_lst])"
   ]
  },
  {
   "cell_type": "code",
   "execution_count": null,
   "metadata": {},
   "outputs": [],
   "source": [
    "test_group_dummies = get_grouping(houshold['TFTOTINC'], totinc_dict, houshold[reb_dummies_lst])\n",
    "\n",
    "print(test_group_dummies.shape)\n",
    "print(test_group_dummies['erebate_3.0-j3'].sum())\n",
    "reb_interaction_dummies = test_group_dummies.columns\n",
    "reb_interaction_dummies"
   ]
  },
  {
   "cell_type": "code",
   "execution_count": null,
   "metadata": {},
   "outputs": [],
   "source": [
    "df_w_group_interaction = test_group_dummies.merge(houshold[['TFEARN', 'ERBATAMT']], left_index=True, right_index=True)\n",
    "df_w_group_interaction['month_total'] = pd.Categorical(houshold['month_total'])\n",
    "df_w_group_interaction"
   ]
  },
  {
   "cell_type": "code",
   "execution_count": null,
   "metadata": {},
   "outputs": [],
   "source": [
    "# with interaction dummies for total income groups:\n",
    "exog_vars = df_w_group_interaction[['erebate_-1.0-j1', 'erebate_0.0-j1', 'erebate_1.0-j1', 'erebate_2.0-j1', 'erebate_3.0-j1', 'erebate_4.0-j1', 'erebate_-1.0-j2',\n",
    "                                    'erebate_0.0-j2', 'erebate_1.0-j2', 'erebate_2.0-j2', 'erebate_3.0-j2','erebate_4.0-j2', 'erebate_-1.0-j3', 'erebate_0.0-j3', \n",
    "                                    'erebate_1.0-j3','erebate_2.0-j3', 'erebate_3.0-j3', 'erebate_4.0-j3', 'erebate_-1.0-j4','erebate_0.0-j4', 'erebate_1.0-j4', \n",
    "                                    'erebate_2.0-j4', 'erebate_3.0-j4','erebate_4.0-j4']]#.multiply(df_w_group_interaction['ERBATAMT'], axis = 'index')\n",
    "#exog_vars['month_total'] = pd.Categorical(houshold['month_total'])\n",
    "\n",
    "exog = sm.add_constant(exog_vars)\n",
    "\n",
    "model = PanelOLS(houshold['TFEARN'], exog, entity_effects = True, time_effects = True, check_rank = True, drop_absorbed=True)\n",
    "\n",
    "model.fit()"
   ]
  },
  {
   "cell_type": "code",
   "execution_count": null,
   "metadata": {},
   "outputs": [],
   "source": []
  },
  {
   "cell_type": "code",
   "execution_count": null,
   "metadata": {},
   "outputs": [],
   "source": []
  }
 ],
 "metadata": {
  "interpreter": {
   "hash": "854dd31d8a762741532201a73c102ff97df2aa6d3df808c117025003f269d370"
  },
  "kernelspec": {
   "display_name": "Python 3.8.5 ('base')",
   "language": "python",
   "name": "python3"
  },
  "language_info": {
   "codemirror_mode": {
    "name": "ipython",
    "version": 3
   },
   "file_extension": ".py",
   "mimetype": "text/x-python",
   "name": "python",
   "nbconvert_exporter": "python",
   "pygments_lexer": "ipython3",
   "version": "3.8.5"
  },
  "orig_nbformat": 4
 },
 "nbformat": 4,
 "nbformat_minor": 2
}
